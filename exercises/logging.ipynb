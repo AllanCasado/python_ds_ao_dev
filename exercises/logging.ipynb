{
 "cells": [
  {
   "cell_type": "code",
   "execution_count": 1,
   "id": "9bcec549",
   "metadata": {},
   "outputs": [],
   "source": [
    "import logging\n",
    "import os"
   ]
  },
  {
   "cell_type": "code",
   "execution_count": 3,
   "id": "acd3333a",
   "metadata": {},
   "outputs": [
    {
     "name": "stdout",
     "output_type": "stream",
     "text": [
      "A pasta Logs já existe.\n"
     ]
    }
   ],
   "source": [
    "#garante que a pasta Logs foi criada\n",
    "path = \"C:/Users/allan/Documents/GitHub/python_ds_ao_dev/exercises/Logs\"\n",
    "if not os.path.exists(path):\n",
    "    os.makedirs(\"Logs\")\n",
    "    print(\"A pasta foi criada com sucesso!\")\n",
    "else:\n",
    "    print(\"A pasta Logs já existe.\")"
   ]
  },
  {
   "cell_type": "code",
   "execution_count": 3,
   "id": "83706026",
   "metadata": {},
   "outputs": [],
   "source": [
    "#configurações do logging\n",
    "logging.basicConfig(\n",
    "    filename='Logs/webscrapping_hm.txt', #o arquivo pode ser .log também\n",
    "    #asctime - hora q log foi gerado; levelname - severidade do log, name - nome da aplicação executando, message - msg  \n",
    "    format='%(asctime)s - %(levelname)s - %(name)s - %(message)s',\n",
    "    datefmt='%Y-%m-%d %H:%M:%S',\n",
    "    level=logging.DEBUG #mostra logs com nível de severidade igual ou maior ao debug\n",
    "                  )\n",
    "\n",
    "logger = logging.getLogger(\"webscrapping_h&m\")"
   ]
  },
  {
   "cell_type": "code",
   "execution_count": 4,
   "id": "48b43fc5",
   "metadata": {},
   "outputs": [],
   "source": [
    "logger.debug('O valor da variavel x e Y ')\n",
    "logger.debug('O valor da variavel x e %s', 10)\n",
    "logger.info('Essa e a interacao de numero 10')\n",
    "logger.warning('Esse ponto do codigo pode ser melhorado')"
   ]
  },
  {
   "cell_type": "code",
   "execution_count": null,
   "id": "165bb148",
   "metadata": {},
   "outputs": [],
   "source": []
  }
 ],
 "metadata": {
  "kernelspec": {
   "display_name": "Python 3 (ipykernel)",
   "language": "python",
   "name": "python3"
  },
  "language_info": {
   "codemirror_mode": {
    "name": "ipython",
    "version": 3
   },
   "file_extension": ".py",
   "mimetype": "text/x-python",
   "name": "python",
   "nbconvert_exporter": "python",
   "pygments_lexer": "ipython3",
   "version": "3.9.12"
  }
 },
 "nbformat": 4,
 "nbformat_minor": 5
}

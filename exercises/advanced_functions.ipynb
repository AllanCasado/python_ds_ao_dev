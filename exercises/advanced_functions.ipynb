{
 "cells": [
  {
   "cell_type": "markdown",
   "id": "205c3a4e",
   "metadata": {},
   "source": [
    "# 1.0 Função Lambda"
   ]
  },
  {
   "cell_type": "markdown",
   "id": "c5f465da",
   "metadata": {},
   "source": [
    "* Utilizada localmente em trechos específicos\n",
    "* Manipulações mais simples\n",
    "* Função que não se repetirá no código"
   ]
  },
  {
   "cell_type": "code",
   "execution_count": 1,
   "id": "79d59f76",
   "metadata": {},
   "outputs": [],
   "source": [
    "def sum(a,b):\n",
    "    return a + b"
   ]
  },
  {
   "cell_type": "code",
   "execution_count": 2,
   "id": "e962db33",
   "metadata": {},
   "outputs": [],
   "source": [
    "sum_lambda = lambda a,b: a + b "
   ]
  },
  {
   "cell_type": "code",
   "execution_count": 3,
   "id": "4e8c1951",
   "metadata": {},
   "outputs": [
    {
     "data": {
      "text/plain": [
       "30"
      ]
     },
     "execution_count": 3,
     "metadata": {},
     "output_type": "execute_result"
    }
   ],
   "source": [
    "sum(10, 20)"
   ]
  },
  {
   "cell_type": "code",
   "execution_count": 4,
   "id": "fc43f62a",
   "metadata": {},
   "outputs": [
    {
     "data": {
      "text/plain": [
       "30"
      ]
     },
     "execution_count": 4,
     "metadata": {},
     "output_type": "execute_result"
    }
   ],
   "source": [
    "sum_lambda(10, 20)"
   ]
  },
  {
   "cell_type": "markdown",
   "id": "8e64424b",
   "metadata": {},
   "source": [
    "# 2.0 Função Map"
   ]
  },
  {
   "cell_type": "markdown",
   "id": "02336440",
   "metadata": {},
   "source": [
    "* Uma maneira de aplicar uma função pré-definida em uma dada estrutura de dados."
   ]
  },
  {
   "cell_type": "code",
   "execution_count": 10,
   "id": "1e695a56",
   "metadata": {},
   "outputs": [],
   "source": [
    "data_structure = [10, 20, 30, 40]\n",
    "lambda_function = lambda x: x ** 2"
   ]
  },
  {
   "cell_type": "code",
   "execution_count": 11,
   "id": "f7b8fd6e",
   "metadata": {},
   "outputs": [
    {
     "data": {
      "text/plain": [
       "[100, 400, 900, 1600]"
      ]
     },
     "execution_count": 11,
     "metadata": {},
     "output_type": "execute_result"
    }
   ],
   "source": [
    "list(map(lambda_function, data_structure))"
   ]
  },
  {
   "cell_type": "markdown",
   "id": "59a32e9b",
   "metadata": {},
   "source": [
    "# 3.0 Função Apply"
   ]
  },
  {
   "cell_type": "markdown",
   "id": "0d01e2fe",
   "metadata": {},
   "source": [
    "* É a mesma coisa que o Map, só que o apply é da biblioteca pandas\n",
    "* Map está na biblioteca base"
   ]
  },
  {
   "cell_type": "code",
   "execution_count": 18,
   "id": "35aaa842",
   "metadata": {},
   "outputs": [],
   "source": [
    "import pandas as pd"
   ]
  },
  {
   "cell_type": "code",
   "execution_count": 23,
   "id": "82c58c9f",
   "metadata": {},
   "outputs": [],
   "source": [
    "df_dictionary = {\n",
    "    \"nome\": [\"Allan\", \"Jonas\", \"Matheus\"],\n",
    "    \"altura\": [175, 180, 185],\n",
    "    \"gols\": [200, 100, 180]\n",
    "}"
   ]
  },
  {
   "cell_type": "code",
   "execution_count": 24,
   "id": "b8bd8893",
   "metadata": {},
   "outputs": [
    {
     "data": {
      "text/html": [
       "<div>\n",
       "<style scoped>\n",
       "    .dataframe tbody tr th:only-of-type {\n",
       "        vertical-align: middle;\n",
       "    }\n",
       "\n",
       "    .dataframe tbody tr th {\n",
       "        vertical-align: top;\n",
       "    }\n",
       "\n",
       "    .dataframe thead th {\n",
       "        text-align: right;\n",
       "    }\n",
       "</style>\n",
       "<table border=\"1\" class=\"dataframe\">\n",
       "  <thead>\n",
       "    <tr style=\"text-align: right;\">\n",
       "      <th></th>\n",
       "      <th>nome</th>\n",
       "      <th>altura</th>\n",
       "      <th>gols</th>\n",
       "    </tr>\n",
       "  </thead>\n",
       "  <tbody>\n",
       "    <tr>\n",
       "      <th>0</th>\n",
       "      <td>Allan</td>\n",
       "      <td>175</td>\n",
       "      <td>200</td>\n",
       "    </tr>\n",
       "    <tr>\n",
       "      <th>1</th>\n",
       "      <td>Jonas</td>\n",
       "      <td>180</td>\n",
       "      <td>100</td>\n",
       "    </tr>\n",
       "    <tr>\n",
       "      <th>2</th>\n",
       "      <td>Matheus</td>\n",
       "      <td>185</td>\n",
       "      <td>180</td>\n",
       "    </tr>\n",
       "  </tbody>\n",
       "</table>\n",
       "</div>"
      ],
      "text/plain": [
       "      nome  altura  gols\n",
       "0    Allan     175   200\n",
       "1    Jonas     180   100\n",
       "2  Matheus     185   180"
      ]
     },
     "execution_count": 24,
     "metadata": {},
     "output_type": "execute_result"
    }
   ],
   "source": [
    "df = pd.DataFrame(df_dictionary)\n",
    "df"
   ]
  },
  {
   "cell_type": "code",
   "execution_count": 25,
   "id": "09ba46bb",
   "metadata": {},
   "outputs": [
    {
     "data": {
      "text/plain": [
       "0    1.75\n",
       "1    1.80\n",
       "2    1.85\n",
       "Name: altura, dtype: float64"
      ]
     },
     "execution_count": 25,
     "metadata": {},
     "output_type": "execute_result"
    }
   ],
   "source": [
    "df[\"altura\"].apply(lambda x: x/100)"
   ]
  },
  {
   "cell_type": "markdown",
   "id": "514bad54",
   "metadata": {},
   "source": [
    "### Apply com condicionais"
   ]
  },
  {
   "cell_type": "code",
   "execution_count": 26,
   "id": "542eb715",
   "metadata": {},
   "outputs": [
    {
     "data": {
      "text/plain": [
       "0    175.00\n",
       "1    180.00\n",
       "2      1.85\n",
       "Name: altura, dtype: float64"
      ]
     },
     "execution_count": 26,
     "metadata": {},
     "output_type": "execute_result"
    }
   ],
   "source": [
    "df[\"altura\"].apply(lambda x: x/100 if x > 180 else x)"
   ]
  },
  {
   "cell_type": "markdown",
   "id": "5783a15b",
   "metadata": {},
   "source": [
    "### Apply com condicionais em múltiplas colunas"
   ]
  },
  {
   "cell_type": "code",
   "execution_count": 74,
   "id": "f37afcab",
   "metadata": {},
   "outputs": [],
   "source": [
    "df_aux = pd.read_csv(\"./generated_data/df_raw_scrapping.csv\")\n",
    "df_aux = df_aux.drop(columns=df_aux.columns[0])"
   ]
  },
  {
   "cell_type": "code",
   "execution_count": 75,
   "id": "0ceb9b9a",
   "metadata": {},
   "outputs": [
    {
     "data": {
      "text/html": [
       "<div>\n",
       "<style scoped>\n",
       "    .dataframe tbody tr th:only-of-type {\n",
       "        vertical-align: middle;\n",
       "    }\n",
       "\n",
       "    .dataframe tbody tr th {\n",
       "        vertical-align: top;\n",
       "    }\n",
       "\n",
       "    .dataframe thead th {\n",
       "        text-align: right;\n",
       "    }\n",
       "</style>\n",
       "<table border=\"1\" class=\"dataframe\">\n",
       "  <thead>\n",
       "    <tr style=\"text-align: right;\">\n",
       "      <th></th>\n",
       "      <th>product_id</th>\n",
       "      <th>product_name</th>\n",
       "      <th>product_type</th>\n",
       "      <th>product_colors</th>\n",
       "      <th>product_price</th>\n",
       "      <th>product_composition_shell</th>\n",
       "      <th>product_composition_pocket</th>\n",
       "      <th>scrapy_datetime</th>\n",
       "    </tr>\n",
       "  </thead>\n",
       "  <tbody>\n",
       "    <tr>\n",
       "      <th>0</th>\n",
       "      <td>1024256001</td>\n",
       "      <td>Slim Jeans</td>\n",
       "      <td>men_jeans_slim</td>\n",
       "      <td>Black</td>\n",
       "      <td>$ 19.99</td>\n",
       "      <td>Cotton 99%, Spandex 1%</td>\n",
       "      <td>Polyester 65%, Cotton 35%</td>\n",
       "      <td>2022-12-15 20:56:55</td>\n",
       "    </tr>\n",
       "    <tr>\n",
       "      <th>1</th>\n",
       "      <td>1024256001</td>\n",
       "      <td>Slim Jeans</td>\n",
       "      <td>men_jeans_slim</td>\n",
       "      <td>Light denim blue</td>\n",
       "      <td>$ 19.99</td>\n",
       "      <td>Cotton 99%, Spandex 1%</td>\n",
       "      <td>Polyester 65%, Cotton 35%</td>\n",
       "      <td>2022-12-15 20:56:55</td>\n",
       "    </tr>\n",
       "    <tr>\n",
       "      <th>2</th>\n",
       "      <td>1024256001</td>\n",
       "      <td>Slim Jeans</td>\n",
       "      <td>men_jeans_slim</td>\n",
       "      <td>Light denim blue</td>\n",
       "      <td>$ 19.99</td>\n",
       "      <td>Cotton 99%, Spandex 1%</td>\n",
       "      <td>Polyester 65%, Cotton 35%</td>\n",
       "      <td>2022-12-15 20:56:55</td>\n",
       "    </tr>\n",
       "    <tr>\n",
       "      <th>3</th>\n",
       "      <td>1024256001</td>\n",
       "      <td>Slim Jeans</td>\n",
       "      <td>men_jeans_slim</td>\n",
       "      <td>Denim blue</td>\n",
       "      <td>$ 19.99</td>\n",
       "      <td>Cotton 99%, Spandex 1%</td>\n",
       "      <td>Polyester 65%, Cotton 35%</td>\n",
       "      <td>2022-12-15 20:56:55</td>\n",
       "    </tr>\n",
       "    <tr>\n",
       "      <th>4</th>\n",
       "      <td>1024256001</td>\n",
       "      <td>Slim Jeans</td>\n",
       "      <td>men_jeans_slim</td>\n",
       "      <td>Dark blue</td>\n",
       "      <td>$ 19.99</td>\n",
       "      <td>Cotton 99%, Spandex 1%</td>\n",
       "      <td>Polyester 65%, Cotton 35%</td>\n",
       "      <td>2022-12-15 20:56:55</td>\n",
       "    </tr>\n",
       "  </tbody>\n",
       "</table>\n",
       "</div>"
      ],
      "text/plain": [
       "   product_id product_name    product_type    product_colors product_price  \\\n",
       "0  1024256001   Slim Jeans  men_jeans_slim             Black       $ 19.99   \n",
       "1  1024256001   Slim Jeans  men_jeans_slim  Light denim blue       $ 19.99   \n",
       "2  1024256001   Slim Jeans  men_jeans_slim  Light denim blue       $ 19.99   \n",
       "3  1024256001   Slim Jeans  men_jeans_slim        Denim blue       $ 19.99   \n",
       "4  1024256001   Slim Jeans  men_jeans_slim         Dark blue       $ 19.99   \n",
       "\n",
       "  product_composition_shell product_composition_pocket      scrapy_datetime  \n",
       "0    Cotton 99%, Spandex 1%  Polyester 65%, Cotton 35%  2022-12-15 20:56:55  \n",
       "1    Cotton 99%, Spandex 1%  Polyester 65%, Cotton 35%  2022-12-15 20:56:55  \n",
       "2    Cotton 99%, Spandex 1%  Polyester 65%, Cotton 35%  2022-12-15 20:56:55  \n",
       "3    Cotton 99%, Spandex 1%  Polyester 65%, Cotton 35%  2022-12-15 20:56:55  \n",
       "4    Cotton 99%, Spandex 1%  Polyester 65%, Cotton 35%  2022-12-15 20:56:55  "
      ]
     },
     "execution_count": 75,
     "metadata": {},
     "output_type": "execute_result"
    }
   ],
   "source": [
    "df_aux.head()"
   ]
  },
  {
   "cell_type": "markdown",
   "id": "ee72e294",
   "metadata": {},
   "source": [
    "#### Ex1"
   ]
  },
  {
   "cell_type": "code",
   "execution_count": 76,
   "id": "853d36ef",
   "metadata": {},
   "outputs": [],
   "source": [
    "#só quero remover o $ da coluna preço se a cor for Black e se a product_price não for nulo\n",
    "df_aux[\"product_price\"] = df_aux[[\"product_colors\", \"product_price\"]].apply(lambda x: x[\"product_price\"].replace(\"$\", \"\") \n",
    "                          if (x[\"product_colors\"] == \"Black\") & (pd.notnull(x[\"product_price\"])) else x[\"product_price\"],\n",
    "                                                                                                                  axis=1)"
   ]
  },
  {
   "cell_type": "code",
   "execution_count": 81,
   "id": "b20390d8",
   "metadata": {},
   "outputs": [
    {
     "data": {
      "text/html": [
       "<div>\n",
       "<style scoped>\n",
       "    .dataframe tbody tr th:only-of-type {\n",
       "        vertical-align: middle;\n",
       "    }\n",
       "\n",
       "    .dataframe tbody tr th {\n",
       "        vertical-align: top;\n",
       "    }\n",
       "\n",
       "    .dataframe thead th {\n",
       "        text-align: right;\n",
       "    }\n",
       "</style>\n",
       "<table border=\"1\" class=\"dataframe\">\n",
       "  <thead>\n",
       "    <tr style=\"text-align: right;\">\n",
       "      <th></th>\n",
       "      <th>product_id</th>\n",
       "      <th>product_name</th>\n",
       "      <th>product_type</th>\n",
       "      <th>product_colors</th>\n",
       "      <th>product_price</th>\n",
       "      <th>product_composition_shell</th>\n",
       "      <th>product_composition_pocket</th>\n",
       "      <th>scrapy_datetime</th>\n",
       "    </tr>\n",
       "  </thead>\n",
       "  <tbody>\n",
       "    <tr>\n",
       "      <th>0</th>\n",
       "      <td>1024256001</td>\n",
       "      <td>Slim Jeans</td>\n",
       "      <td>men_jeans_slim</td>\n",
       "      <td>Black</td>\n",
       "      <td>19.99</td>\n",
       "      <td>Cotton 99%, Spandex 1%</td>\n",
       "      <td>Polyester 65%, Cotton 35%</td>\n",
       "      <td>2022-12-15 20:56:55</td>\n",
       "    </tr>\n",
       "    <tr>\n",
       "      <th>1</th>\n",
       "      <td>1024256001</td>\n",
       "      <td>Slim Jeans</td>\n",
       "      <td>men_jeans_slim</td>\n",
       "      <td>Light denim blue</td>\n",
       "      <td>$ 19.99</td>\n",
       "      <td>Cotton 99%, Spandex 1%</td>\n",
       "      <td>Polyester 65%, Cotton 35%</td>\n",
       "      <td>2022-12-15 20:56:55</td>\n",
       "    </tr>\n",
       "    <tr>\n",
       "      <th>2</th>\n",
       "      <td>1024256001</td>\n",
       "      <td>Slim Jeans</td>\n",
       "      <td>men_jeans_slim</td>\n",
       "      <td>Light denim blue</td>\n",
       "      <td>$ 19.99</td>\n",
       "      <td>Cotton 99%, Spandex 1%</td>\n",
       "      <td>Polyester 65%, Cotton 35%</td>\n",
       "      <td>2022-12-15 20:56:55</td>\n",
       "    </tr>\n",
       "    <tr>\n",
       "      <th>3</th>\n",
       "      <td>1024256001</td>\n",
       "      <td>Slim Jeans</td>\n",
       "      <td>men_jeans_slim</td>\n",
       "      <td>Denim blue</td>\n",
       "      <td>$ 19.99</td>\n",
       "      <td>Cotton 99%, Spandex 1%</td>\n",
       "      <td>Polyester 65%, Cotton 35%</td>\n",
       "      <td>2022-12-15 20:56:55</td>\n",
       "    </tr>\n",
       "    <tr>\n",
       "      <th>4</th>\n",
       "      <td>1024256001</td>\n",
       "      <td>Slim Jeans</td>\n",
       "      <td>men_jeans_slim</td>\n",
       "      <td>Dark blue</td>\n",
       "      <td>$ 19.99</td>\n",
       "      <td>Cotton 99%, Spandex 1%</td>\n",
       "      <td>Polyester 65%, Cotton 35%</td>\n",
       "      <td>2022-12-15 20:56:55</td>\n",
       "    </tr>\n",
       "  </tbody>\n",
       "</table>\n",
       "</div>"
      ],
      "text/plain": [
       "   product_id product_name    product_type    product_colors product_price  \\\n",
       "0  1024256001   Slim Jeans  men_jeans_slim             Black         19.99   \n",
       "1  1024256001   Slim Jeans  men_jeans_slim  Light denim blue       $ 19.99   \n",
       "2  1024256001   Slim Jeans  men_jeans_slim  Light denim blue       $ 19.99   \n",
       "3  1024256001   Slim Jeans  men_jeans_slim        Denim blue       $ 19.99   \n",
       "4  1024256001   Slim Jeans  men_jeans_slim         Dark blue       $ 19.99   \n",
       "\n",
       "  product_composition_shell product_composition_pocket      scrapy_datetime  \n",
       "0    Cotton 99%, Spandex 1%  Polyester 65%, Cotton 35%  2022-12-15 20:56:55  \n",
       "1    Cotton 99%, Spandex 1%  Polyester 65%, Cotton 35%  2022-12-15 20:56:55  \n",
       "2    Cotton 99%, Spandex 1%  Polyester 65%, Cotton 35%  2022-12-15 20:56:55  \n",
       "3    Cotton 99%, Spandex 1%  Polyester 65%, Cotton 35%  2022-12-15 20:56:55  \n",
       "4    Cotton 99%, Spandex 1%  Polyester 65%, Cotton 35%  2022-12-15 20:56:55  "
      ]
     },
     "execution_count": 81,
     "metadata": {},
     "output_type": "execute_result"
    }
   ],
   "source": [
    "#verificando se ocorreu tudo certo\n",
    "df_aux.head()"
   ]
  },
  {
   "cell_type": "markdown",
   "id": "adad9167",
   "metadata": {},
   "source": [
    "#### Ex2"
   ]
  },
  {
   "cell_type": "markdown",
   "id": "be969fe1",
   "metadata": {},
   "source": [
    "Se a condição 01 for verdadeira, executa VERDADEIRO (o primeiro). Se a condição 01 for falsa E a condição 02 for verdadeiro, executa FALSO|VERDADEIRO. Se a condição 01 for falso e a condição 02 for falso executa FALSO."
   ]
  },
  {
   "cell_type": "code",
   "execution_count": 89,
   "id": "e525f3e8",
   "metadata": {},
   "outputs": [],
   "source": [
    "df_aux = pd.read_csv(\"./generated_data/df_raw_scrapping.csv\")\n",
    "df_aux = df_aux.drop(columns=df_aux.columns[0])"
   ]
  },
  {
   "cell_type": "code",
   "execution_count": 90,
   "id": "63cad999",
   "metadata": {},
   "outputs": [],
   "source": [
    "# df_aux[[\"product_colors\", \"product_price\"]].apply(\n",
    "#     lambda x: VERDADEIRO CONDICAO 01 FALSO|VERDADEIRO CONDICAO 02 FALSO\n",
    "# )"
   ]
  },
  {
   "cell_type": "code",
   "execution_count": 91,
   "id": "137289e0",
   "metadata": {},
   "outputs": [],
   "source": [
    "df_aux[\"product_price\"] = df_aux[[\"product_price\", \"product_colors\"]].apply(\n",
    "    lambda x: x[\"product_price\"] if pd.isnull(x[\"product_price\"]) else x[\"product_price\"].replace(\"$\", \"\")\n",
    "                if x[\"product_colors\"] == \"Black\" else x[\"product_price\"], axis=1\n",
    ")"
   ]
  },
  {
   "cell_type": "code",
   "execution_count": 93,
   "id": "4c2f84ee",
   "metadata": {},
   "outputs": [
    {
     "data": {
      "text/html": [
       "<div>\n",
       "<style scoped>\n",
       "    .dataframe tbody tr th:only-of-type {\n",
       "        vertical-align: middle;\n",
       "    }\n",
       "\n",
       "    .dataframe tbody tr th {\n",
       "        vertical-align: top;\n",
       "    }\n",
       "\n",
       "    .dataframe thead th {\n",
       "        text-align: right;\n",
       "    }\n",
       "</style>\n",
       "<table border=\"1\" class=\"dataframe\">\n",
       "  <thead>\n",
       "    <tr style=\"text-align: right;\">\n",
       "      <th></th>\n",
       "      <th>product_id</th>\n",
       "      <th>product_name</th>\n",
       "      <th>product_type</th>\n",
       "      <th>product_colors</th>\n",
       "      <th>product_price</th>\n",
       "      <th>product_composition_shell</th>\n",
       "      <th>product_composition_pocket</th>\n",
       "      <th>scrapy_datetime</th>\n",
       "    </tr>\n",
       "  </thead>\n",
       "  <tbody>\n",
       "    <tr>\n",
       "      <th>0</th>\n",
       "      <td>1024256001</td>\n",
       "      <td>Slim Jeans</td>\n",
       "      <td>men_jeans_slim</td>\n",
       "      <td>Black</td>\n",
       "      <td>19.99</td>\n",
       "      <td>Cotton 99%, Spandex 1%</td>\n",
       "      <td>Polyester 65%, Cotton 35%</td>\n",
       "      <td>2022-12-15 20:56:55</td>\n",
       "    </tr>\n",
       "    <tr>\n",
       "      <th>1</th>\n",
       "      <td>1024256001</td>\n",
       "      <td>Slim Jeans</td>\n",
       "      <td>men_jeans_slim</td>\n",
       "      <td>Light denim blue</td>\n",
       "      <td>$ 19.99</td>\n",
       "      <td>Cotton 99%, Spandex 1%</td>\n",
       "      <td>Polyester 65%, Cotton 35%</td>\n",
       "      <td>2022-12-15 20:56:55</td>\n",
       "    </tr>\n",
       "    <tr>\n",
       "      <th>2</th>\n",
       "      <td>1024256001</td>\n",
       "      <td>Slim Jeans</td>\n",
       "      <td>men_jeans_slim</td>\n",
       "      <td>Light denim blue</td>\n",
       "      <td>$ 19.99</td>\n",
       "      <td>Cotton 99%, Spandex 1%</td>\n",
       "      <td>Polyester 65%, Cotton 35%</td>\n",
       "      <td>2022-12-15 20:56:55</td>\n",
       "    </tr>\n",
       "    <tr>\n",
       "      <th>3</th>\n",
       "      <td>1024256001</td>\n",
       "      <td>Slim Jeans</td>\n",
       "      <td>men_jeans_slim</td>\n",
       "      <td>Denim blue</td>\n",
       "      <td>$ 19.99</td>\n",
       "      <td>Cotton 99%, Spandex 1%</td>\n",
       "      <td>Polyester 65%, Cotton 35%</td>\n",
       "      <td>2022-12-15 20:56:55</td>\n",
       "    </tr>\n",
       "    <tr>\n",
       "      <th>4</th>\n",
       "      <td>1024256001</td>\n",
       "      <td>Slim Jeans</td>\n",
       "      <td>men_jeans_slim</td>\n",
       "      <td>Dark blue</td>\n",
       "      <td>$ 19.99</td>\n",
       "      <td>Cotton 99%, Spandex 1%</td>\n",
       "      <td>Polyester 65%, Cotton 35%</td>\n",
       "      <td>2022-12-15 20:56:55</td>\n",
       "    </tr>\n",
       "  </tbody>\n",
       "</table>\n",
       "</div>"
      ],
      "text/plain": [
       "   product_id product_name    product_type    product_colors product_price  \\\n",
       "0  1024256001   Slim Jeans  men_jeans_slim             Black         19.99   \n",
       "1  1024256001   Slim Jeans  men_jeans_slim  Light denim blue       $ 19.99   \n",
       "2  1024256001   Slim Jeans  men_jeans_slim  Light denim blue       $ 19.99   \n",
       "3  1024256001   Slim Jeans  men_jeans_slim        Denim blue       $ 19.99   \n",
       "4  1024256001   Slim Jeans  men_jeans_slim         Dark blue       $ 19.99   \n",
       "\n",
       "  product_composition_shell product_composition_pocket      scrapy_datetime  \n",
       "0    Cotton 99%, Spandex 1%  Polyester 65%, Cotton 35%  2022-12-15 20:56:55  \n",
       "1    Cotton 99%, Spandex 1%  Polyester 65%, Cotton 35%  2022-12-15 20:56:55  \n",
       "2    Cotton 99%, Spandex 1%  Polyester 65%, Cotton 35%  2022-12-15 20:56:55  \n",
       "3    Cotton 99%, Spandex 1%  Polyester 65%, Cotton 35%  2022-12-15 20:56:55  \n",
       "4    Cotton 99%, Spandex 1%  Polyester 65%, Cotton 35%  2022-12-15 20:56:55  "
      ]
     },
     "execution_count": 93,
     "metadata": {},
     "output_type": "execute_result"
    }
   ],
   "source": [
    "df_aux.head()"
   ]
  },
  {
   "cell_type": "code",
   "execution_count": null,
   "id": "ca2c6e17",
   "metadata": {},
   "outputs": [],
   "source": []
  }
 ],
 "metadata": {
  "kernelspec": {
   "display_name": "Python 3",
   "language": "python",
   "name": "python3"
  },
  "language_info": {
   "codemirror_mode": {
    "name": "ipython",
    "version": 3
   },
   "file_extension": ".py",
   "mimetype": "text/x-python",
   "name": "python",
   "nbconvert_exporter": "python",
   "pygments_lexer": "ipython3",
   "version": "3.8.0"
  }
 },
 "nbformat": 4,
 "nbformat_minor": 5
}

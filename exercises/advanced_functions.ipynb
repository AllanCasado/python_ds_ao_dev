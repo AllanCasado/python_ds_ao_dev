{
 "cells": [
  {
   "cell_type": "markdown",
   "id": "a047da89",
   "metadata": {},
   "source": [
    "# 1.0 Função Lambda"
   ]
  },
  {
   "cell_type": "markdown",
   "id": "fb709653",
   "metadata": {},
   "source": [
    "* Utilizada localmente em trechos específicos\n",
    "* Manipulações mais simples\n",
    "* Função que não se repetirá no código"
   ]
  },
  {
   "cell_type": "code",
   "execution_count": 1,
   "id": "37b52f8a",
   "metadata": {},
   "outputs": [],
   "source": [
    "def sum(a,b):\n",
    "    return a + b"
   ]
  },
  {
   "cell_type": "code",
   "execution_count": 2,
   "id": "ed67250f",
   "metadata": {},
   "outputs": [],
   "source": [
    "sum_lambda = lambda a,b: a + b "
   ]
  },
  {
   "cell_type": "code",
   "execution_count": 3,
   "id": "4c53edb0",
   "metadata": {},
   "outputs": [
    {
     "data": {
      "text/plain": [
       "30"
      ]
     },
     "execution_count": 3,
     "metadata": {},
     "output_type": "execute_result"
    }
   ],
   "source": [
    "sum(10, 20)"
   ]
  },
  {
   "cell_type": "code",
   "execution_count": 4,
   "id": "a79e482b",
   "metadata": {},
   "outputs": [
    {
     "data": {
      "text/plain": [
       "30"
      ]
     },
     "execution_count": 4,
     "metadata": {},
     "output_type": "execute_result"
    }
   ],
   "source": [
    "sum_lambda(10, 20)"
   ]
  },
  {
   "cell_type": "markdown",
   "id": "0dadaeb8",
   "metadata": {},
   "source": [
    "# 2.0 Função Map"
   ]
  },
  {
   "cell_type": "markdown",
   "id": "a39686e8",
   "metadata": {},
   "source": [
    "* Uma maneira de aplicar uma função pré-definida em uma dada estrutura de dados."
   ]
  },
  {
   "cell_type": "code",
   "execution_count": 10,
   "id": "b787eb6c",
   "metadata": {},
   "outputs": [],
   "source": [
    "data_structure = [10, 20, 30, 40]\n",
    "lambda_function = lambda x: x ** 2"
   ]
  },
  {
   "cell_type": "code",
   "execution_count": 11,
   "id": "9c590a1f",
   "metadata": {},
   "outputs": [
    {
     "data": {
      "text/plain": [
       "[100, 400, 900, 1600]"
      ]
     },
     "execution_count": 11,
     "metadata": {},
     "output_type": "execute_result"
    }
   ],
   "source": [
    "list(map(lambda_function, data_structure))"
   ]
  },
  {
   "cell_type": "markdown",
   "id": "34a5ce67",
   "metadata": {},
   "source": [
    "# 3.0 Função Apply"
   ]
  },
  {
   "cell_type": "markdown",
   "id": "89ca8622",
   "metadata": {},
   "source": [
    "* É a mesma coisa que o Map, só que o apply é da biblioteca pandas\n",
    "* Map está na biblioteca base"
   ]
  },
  {
   "cell_type": "code",
   "execution_count": 14,
   "id": "a6845201",
   "metadata": {},
   "outputs": [],
   "source": [
    "import pandas as pd"
   ]
  },
  {
   "cell_type": "code",
   "execution_count": 12,
   "id": "46fae48e",
   "metadata": {},
   "outputs": [],
   "source": [
    "df_dictionary = {\n",
    "    \"nome\": [\"Allan\", \"Jonas\", \"Matheus\"],\n",
    "    \"altura\": [175, 180, 185]\n",
    "}"
   ]
  },
  {
   "cell_type": "code",
   "execution_count": 16,
   "id": "2bbac6e7",
   "metadata": {},
   "outputs": [
    {
     "data": {
      "text/html": [
       "<div>\n",
       "<style scoped>\n",
       "    .dataframe tbody tr th:only-of-type {\n",
       "        vertical-align: middle;\n",
       "    }\n",
       "\n",
       "    .dataframe tbody tr th {\n",
       "        vertical-align: top;\n",
       "    }\n",
       "\n",
       "    .dataframe thead th {\n",
       "        text-align: right;\n",
       "    }\n",
       "</style>\n",
       "<table border=\"1\" class=\"dataframe\">\n",
       "  <thead>\n",
       "    <tr style=\"text-align: right;\">\n",
       "      <th></th>\n",
       "      <th>nome</th>\n",
       "      <th>altura</th>\n",
       "    </tr>\n",
       "  </thead>\n",
       "  <tbody>\n",
       "    <tr>\n",
       "      <th>0</th>\n",
       "      <td>Allan</td>\n",
       "      <td>175</td>\n",
       "    </tr>\n",
       "    <tr>\n",
       "      <th>1</th>\n",
       "      <td>Jonas</td>\n",
       "      <td>180</td>\n",
       "    </tr>\n",
       "    <tr>\n",
       "      <th>2</th>\n",
       "      <td>Matheus</td>\n",
       "      <td>185</td>\n",
       "    </tr>\n",
       "  </tbody>\n",
       "</table>\n",
       "</div>"
      ],
      "text/plain": [
       "      nome  altura\n",
       "0    Allan     175\n",
       "1    Jonas     180\n",
       "2  Matheus     185"
      ]
     },
     "execution_count": 16,
     "metadata": {},
     "output_type": "execute_result"
    }
   ],
   "source": [
    "df = pd.DataFrame(df_dictionary)\n",
    "df"
   ]
  },
  {
   "cell_type": "code",
   "execution_count": 17,
   "id": "1650f28e",
   "metadata": {},
   "outputs": [
    {
     "data": {
      "text/plain": [
       "0    1.75\n",
       "1    1.80\n",
       "2    1.85\n",
       "Name: altura, dtype: float64"
      ]
     },
     "execution_count": 17,
     "metadata": {},
     "output_type": "execute_result"
    }
   ],
   "source": [
    "df[\"altura\"].apply(lambda x: x/100)"
   ]
  },
  {
   "cell_type": "code",
   "execution_count": null,
   "id": "2ac89e73",
   "metadata": {},
   "outputs": [],
   "source": []
  }
 ],
 "metadata": {
  "kernelspec": {
   "display_name": "Python 3",
   "language": "python",
   "name": "python3"
  },
  "language_info": {
   "codemirror_mode": {
    "name": "ipython",
    "version": 3
   },
   "file_extension": ".py",
   "mimetype": "text/x-python",
   "name": "python",
   "nbconvert_exporter": "python",
   "pygments_lexer": "ipython3",
   "version": "3.8.0"
  }
 },
 "nbformat": 4,
 "nbformat_minor": 5
}

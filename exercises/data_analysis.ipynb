{
 "cells": [
  {
   "cell_type": "markdown",
   "id": "e215b66a",
   "metadata": {},
   "source": [
    "# 0.0 Importando as bibliotecas e coletando os dados"
   ]
  },
  {
   "cell_type": "code",
   "execution_count": 3,
   "id": "91711857",
   "metadata": {},
   "outputs": [],
   "source": [
    "import pandas as pd\n",
    "import numpy as np\n",
    "import matplotlib.pyplot as plt\n",
    "from sqlalchemy import create_engine"
   ]
  },
  {
   "cell_type": "code",
   "execution_count": 14,
   "id": "d1e54ef6",
   "metadata": {},
   "outputs": [],
   "source": [
    "path = 'C:/Users/allan/Documents/GitHub/python_ds_ao_dev/etl/'\n",
    "database_name = 'database_hm.sqlite'"
   ]
  },
  {
   "cell_type": "code",
   "execution_count": 15,
   "id": "3a2cc824",
   "metadata": {},
   "outputs": [],
   "source": [
    "conn = create_engine('sqlite:///' + path + database_name)"
   ]
  },
  {
   "cell_type": "code",
   "execution_count": 16,
   "id": "48191cdd",
   "metadata": {},
   "outputs": [],
   "source": [
    "query = \"SELECT * FROM showroom\""
   ]
  },
  {
   "cell_type": "code",
   "execution_count": 17,
   "id": "821e0a12",
   "metadata": {},
   "outputs": [],
   "source": [
    "df_raw = pd.read_sql(query, conn)"
   ]
  },
  {
   "cell_type": "code",
   "execution_count": 30,
   "id": "52d0c4c5",
   "metadata": {},
   "outputs": [
    {
     "data": {
      "text/html": [
       "<div>\n",
       "<style scoped>\n",
       "    .dataframe tbody tr th:only-of-type {\n",
       "        vertical-align: middle;\n",
       "    }\n",
       "\n",
       "    .dataframe tbody tr th {\n",
       "        vertical-align: top;\n",
       "    }\n",
       "\n",
       "    .dataframe thead th {\n",
       "        text-align: right;\n",
       "    }\n",
       "</style>\n",
       "<table border=\"1\" class=\"dataframe\">\n",
       "  <thead>\n",
       "    <tr style=\"text-align: right;\">\n",
       "      <th></th>\n",
       "      <th>product_id</th>\n",
       "      <th>product_name</th>\n",
       "      <th>product_type</th>\n",
       "      <th>product_colors</th>\n",
       "      <th>product_price</th>\n",
       "      <th>cotton</th>\n",
       "      <th>spandex</th>\n",
       "      <th>elastomultiester</th>\n",
       "      <th>polyester</th>\n",
       "      <th>lyocell</th>\n",
       "      <th>rayon</th>\n",
       "      <th>scrapy_datetime</th>\n",
       "    </tr>\n",
       "  </thead>\n",
       "  <tbody>\n",
       "    <tr>\n",
       "      <th>0</th>\n",
       "      <td>1024256001</td>\n",
       "      <td>slim_jeans</td>\n",
       "      <td>men_jeans_slim</td>\n",
       "      <td>black</td>\n",
       "      <td>24.99</td>\n",
       "      <td>0.99</td>\n",
       "      <td>0.01</td>\n",
       "      <td>0.0</td>\n",
       "      <td>0.0</td>\n",
       "      <td>0.0</td>\n",
       "      <td>0.0</td>\n",
       "      <td>2023-01-10 21:00:39.000000</td>\n",
       "    </tr>\n",
       "    <tr>\n",
       "      <th>1</th>\n",
       "      <td>1024256001</td>\n",
       "      <td>slim_jeans</td>\n",
       "      <td>men_jeans_slim</td>\n",
       "      <td>light_denim_blue</td>\n",
       "      <td>24.99</td>\n",
       "      <td>0.99</td>\n",
       "      <td>0.01</td>\n",
       "      <td>0.0</td>\n",
       "      <td>0.0</td>\n",
       "      <td>0.0</td>\n",
       "      <td>0.0</td>\n",
       "      <td>2023-01-10 21:00:39.000000</td>\n",
       "    </tr>\n",
       "    <tr>\n",
       "      <th>2</th>\n",
       "      <td>1024256001</td>\n",
       "      <td>slim_jeans</td>\n",
       "      <td>men_jeans_slim</td>\n",
       "      <td>denim_blue</td>\n",
       "      <td>24.99</td>\n",
       "      <td>0.99</td>\n",
       "      <td>0.01</td>\n",
       "      <td>0.0</td>\n",
       "      <td>0.0</td>\n",
       "      <td>0.0</td>\n",
       "      <td>0.0</td>\n",
       "      <td>2023-01-10 21:00:39.000000</td>\n",
       "    </tr>\n",
       "    <tr>\n",
       "      <th>3</th>\n",
       "      <td>1024256001</td>\n",
       "      <td>slim_jeans</td>\n",
       "      <td>men_jeans_slim</td>\n",
       "      <td>dark_blue</td>\n",
       "      <td>24.99</td>\n",
       "      <td>0.99</td>\n",
       "      <td>0.01</td>\n",
       "      <td>0.0</td>\n",
       "      <td>0.0</td>\n",
       "      <td>0.0</td>\n",
       "      <td>0.0</td>\n",
       "      <td>2023-01-10 21:00:39.000000</td>\n",
       "    </tr>\n",
       "    <tr>\n",
       "      <th>4</th>\n",
       "      <td>1024256001</td>\n",
       "      <td>slim_jeans</td>\n",
       "      <td>men_jeans_slim</td>\n",
       "      <td>dark_denim_blue</td>\n",
       "      <td>24.99</td>\n",
       "      <td>0.99</td>\n",
       "      <td>0.01</td>\n",
       "      <td>0.0</td>\n",
       "      <td>0.0</td>\n",
       "      <td>0.0</td>\n",
       "      <td>0.0</td>\n",
       "      <td>2023-01-10 21:00:39.000000</td>\n",
       "    </tr>\n",
       "  </tbody>\n",
       "</table>\n",
       "</div>"
      ],
      "text/plain": [
       "   product_id product_name    product_type    product_colors  product_price  \\\n",
       "0  1024256001   slim_jeans  men_jeans_slim             black          24.99   \n",
       "1  1024256001   slim_jeans  men_jeans_slim  light_denim_blue          24.99   \n",
       "2  1024256001   slim_jeans  men_jeans_slim        denim_blue          24.99   \n",
       "3  1024256001   slim_jeans  men_jeans_slim         dark_blue          24.99   \n",
       "4  1024256001   slim_jeans  men_jeans_slim   dark_denim_blue          24.99   \n",
       "\n",
       "   cotton  spandex  elastomultiester  polyester  lyocell  rayon  \\\n",
       "0    0.99     0.01               0.0        0.0      0.0    0.0   \n",
       "1    0.99     0.01               0.0        0.0      0.0    0.0   \n",
       "2    0.99     0.01               0.0        0.0      0.0    0.0   \n",
       "3    0.99     0.01               0.0        0.0      0.0    0.0   \n",
       "4    0.99     0.01               0.0        0.0      0.0    0.0   \n",
       "\n",
       "              scrapy_datetime  \n",
       "0  2023-01-10 21:00:39.000000  \n",
       "1  2023-01-10 21:00:39.000000  \n",
       "2  2023-01-10 21:00:39.000000  \n",
       "3  2023-01-10 21:00:39.000000  \n",
       "4  2023-01-10 21:00:39.000000  "
      ]
     },
     "execution_count": 30,
     "metadata": {},
     "output_type": "execute_result"
    }
   ],
   "source": [
    "df_raw.head()"
   ]
  },
  {
   "cell_type": "markdown",
   "id": "3238cd02",
   "metadata": {},
   "source": [
    "# 1.0 Descrição dos dados"
   ]
  },
  {
   "cell_type": "code",
   "execution_count": 19,
   "id": "cb77a681",
   "metadata": {},
   "outputs": [],
   "source": [
    "df01 = df_raw.copy()"
   ]
  },
  {
   "cell_type": "markdown",
   "id": "4fd036f0",
   "metadata": {},
   "source": [
    "### 1.1 Dimensão dos dados"
   ]
  },
  {
   "cell_type": "code",
   "execution_count": 21,
   "id": "0144c0e3",
   "metadata": {},
   "outputs": [
    {
     "name": "stdout",
     "output_type": "stream",
     "text": [
      "Number of rows: 722\n",
      "Number of columns: 12\n"
     ]
    }
   ],
   "source": [
    "shape = df01.shape\n",
    "print(f'Number of rows: {shape[0]}')\n",
    "print(f'Number of columns: {shape[1]}')"
   ]
  },
  {
   "cell_type": "markdown",
   "id": "05ce734a",
   "metadata": {},
   "source": [
    "### 1.2 Tipos dos dados"
   ]
  },
  {
   "cell_type": "code",
   "execution_count": 22,
   "id": "68795a68",
   "metadata": {},
   "outputs": [
    {
     "data": {
      "text/plain": [
       "product_id           object\n",
       "product_name         object\n",
       "product_type         object\n",
       "product_colors       object\n",
       "product_price       float64\n",
       "cotton              float64\n",
       "spandex             float64\n",
       "elastomultiester    float64\n",
       "polyester           float64\n",
       "lyocell             float64\n",
       "rayon               float64\n",
       "scrapy_datetime      object\n",
       "dtype: object"
      ]
     },
     "execution_count": 22,
     "metadata": {},
     "output_type": "execute_result"
    }
   ],
   "source": [
    "df01.dtypes"
   ]
  },
  {
   "cell_type": "code",
   "execution_count": 23,
   "id": "f8f9a4d8",
   "metadata": {},
   "outputs": [],
   "source": [
    "#convertendo scrapy_datetime para o formato de datas do pandas\n",
    "df01[\"scrapy_datetime\"] = pd.to_datetime(df01[\"scrapy_datetime\"])"
   ]
  },
  {
   "cell_type": "code",
   "execution_count": 31,
   "id": "16b69830",
   "metadata": {},
   "outputs": [
    {
     "data": {
      "text/plain": [
       "product_id                  object\n",
       "product_name                object\n",
       "product_type                object\n",
       "product_colors              object\n",
       "product_price              float64\n",
       "cotton                     float64\n",
       "spandex                    float64\n",
       "elastomultiester           float64\n",
       "polyester                  float64\n",
       "lyocell                    float64\n",
       "rayon                      float64\n",
       "scrapy_datetime     datetime64[ns]\n",
       "dtype: object"
      ]
     },
     "execution_count": 31,
     "metadata": {},
     "output_type": "execute_result"
    }
   ],
   "source": [
    "df01.dtypes"
   ]
  },
  {
   "cell_type": "markdown",
   "id": "58c5eba0",
   "metadata": {},
   "source": [
    "### 1.3 Identificação dos dados faltantes"
   ]
  },
  {
   "cell_type": "code",
   "execution_count": 25,
   "id": "6a72151b",
   "metadata": {},
   "outputs": [
    {
     "data": {
      "text/plain": [
       "product_id          0\n",
       "product_name        0\n",
       "product_type        0\n",
       "product_colors      0\n",
       "product_price       0\n",
       "cotton              0\n",
       "spandex             0\n",
       "elastomultiester    0\n",
       "polyester           0\n",
       "lyocell             0\n",
       "rayon               0\n",
       "scrapy_datetime     0\n",
       "dtype: int64"
      ]
     },
     "execution_count": 25,
     "metadata": {},
     "output_type": "execute_result"
    }
   ],
   "source": [
    "df01.isna().sum()"
   ]
  },
  {
   "cell_type": "markdown",
   "id": "23500352",
   "metadata": {},
   "source": [
    "### 1.4 Substituição de dados faltantes"
   ]
  },
  {
   "cell_type": "markdown",
   "id": "54b4c938",
   "metadata": {},
   "source": [
    "Não existem dados faltantes."
   ]
  },
  {
   "cell_type": "markdown",
   "id": "011822c5",
   "metadata": {},
   "source": [
    "### 1.5 Descrição dos dados"
   ]
  },
  {
   "cell_type": "code",
   "execution_count": 32,
   "id": "5ae85bc5",
   "metadata": {},
   "outputs": [],
   "source": [
    "num_attributes = df01.select_dtypes(include=[\"float64\"])\n",
    "cat_attributes = df01.select_dtypes(include=[\"object\"])"
   ]
  },
  {
   "cell_type": "markdown",
   "id": "f2db59bb",
   "metadata": {},
   "source": [
    "#### 1.5.1 Colunas numéricas"
   ]
  },
  {
   "cell_type": "code",
   "execution_count": 34,
   "id": "dc3dea6a",
   "metadata": {},
   "outputs": [
    {
     "data": {
      "text/html": [
       "<div>\n",
       "<style scoped>\n",
       "    .dataframe tbody tr th:only-of-type {\n",
       "        vertical-align: middle;\n",
       "    }\n",
       "\n",
       "    .dataframe tbody tr th {\n",
       "        vertical-align: top;\n",
       "    }\n",
       "\n",
       "    .dataframe thead th {\n",
       "        text-align: right;\n",
       "    }\n",
       "</style>\n",
       "<table border=\"1\" class=\"dataframe\">\n",
       "  <thead>\n",
       "    <tr style=\"text-align: right;\">\n",
       "      <th></th>\n",
       "      <th>product_price</th>\n",
       "      <th>cotton</th>\n",
       "      <th>spandex</th>\n",
       "      <th>elastomultiester</th>\n",
       "      <th>polyester</th>\n",
       "      <th>lyocell</th>\n",
       "      <th>rayon</th>\n",
       "    </tr>\n",
       "  </thead>\n",
       "  <tbody>\n",
       "    <tr>\n",
       "      <th>0</th>\n",
       "      <td>24.99</td>\n",
       "      <td>0.99</td>\n",
       "      <td>0.01</td>\n",
       "      <td>0.0</td>\n",
       "      <td>0.0</td>\n",
       "      <td>0.0</td>\n",
       "      <td>0.0</td>\n",
       "    </tr>\n",
       "    <tr>\n",
       "      <th>1</th>\n",
       "      <td>24.99</td>\n",
       "      <td>0.99</td>\n",
       "      <td>0.01</td>\n",
       "      <td>0.0</td>\n",
       "      <td>0.0</td>\n",
       "      <td>0.0</td>\n",
       "      <td>0.0</td>\n",
       "    </tr>\n",
       "    <tr>\n",
       "      <th>2</th>\n",
       "      <td>24.99</td>\n",
       "      <td>0.99</td>\n",
       "      <td>0.01</td>\n",
       "      <td>0.0</td>\n",
       "      <td>0.0</td>\n",
       "      <td>0.0</td>\n",
       "      <td>0.0</td>\n",
       "    </tr>\n",
       "    <tr>\n",
       "      <th>3</th>\n",
       "      <td>24.99</td>\n",
       "      <td>0.99</td>\n",
       "      <td>0.01</td>\n",
       "      <td>0.0</td>\n",
       "      <td>0.0</td>\n",
       "      <td>0.0</td>\n",
       "      <td>0.0</td>\n",
       "    </tr>\n",
       "    <tr>\n",
       "      <th>4</th>\n",
       "      <td>24.99</td>\n",
       "      <td>0.99</td>\n",
       "      <td>0.01</td>\n",
       "      <td>0.0</td>\n",
       "      <td>0.0</td>\n",
       "      <td>0.0</td>\n",
       "      <td>0.0</td>\n",
       "    </tr>\n",
       "  </tbody>\n",
       "</table>\n",
       "</div>"
      ],
      "text/plain": [
       "   product_price  cotton  spandex  elastomultiester  polyester  lyocell  rayon\n",
       "0          24.99    0.99     0.01               0.0        0.0      0.0    0.0\n",
       "1          24.99    0.99     0.01               0.0        0.0      0.0    0.0\n",
       "2          24.99    0.99     0.01               0.0        0.0      0.0    0.0\n",
       "3          24.99    0.99     0.01               0.0        0.0      0.0    0.0\n",
       "4          24.99    0.99     0.01               0.0        0.0      0.0    0.0"
      ]
     },
     "execution_count": 34,
     "metadata": {},
     "output_type": "execute_result"
    }
   ],
   "source": [
    "num_attributes.head()"
   ]
  },
  {
   "cell_type": "code",
   "execution_count": 67,
   "id": "65ce0ffc",
   "metadata": {},
   "outputs": [
    {
     "data": {
      "text/html": [
       "<div>\n",
       "<style scoped>\n",
       "    .dataframe tbody tr th:only-of-type {\n",
       "        vertical-align: middle;\n",
       "    }\n",
       "\n",
       "    .dataframe tbody tr th {\n",
       "        vertical-align: top;\n",
       "    }\n",
       "\n",
       "    .dataframe thead th {\n",
       "        text-align: right;\n",
       "    }\n",
       "</style>\n",
       "<table border=\"1\" class=\"dataframe\">\n",
       "  <thead>\n",
       "    <tr style=\"text-align: right;\">\n",
       "      <th></th>\n",
       "      <th>std</th>\n",
       "      <th>min</th>\n",
       "      <th>max</th>\n",
       "      <th>range</th>\n",
       "      <th>skew</th>\n",
       "      <th>kurtosis</th>\n",
       "      <th>mean</th>\n",
       "      <th>median</th>\n",
       "    </tr>\n",
       "  </thead>\n",
       "  <tbody>\n",
       "    <tr>\n",
       "      <th>product_price</th>\n",
       "      <td>7.100216</td>\n",
       "      <td>19.99</td>\n",
       "      <td>49.99</td>\n",
       "      <td>30.00</td>\n",
       "      <td>-0.300819</td>\n",
       "      <td>-0.293043</td>\n",
       "      <td>35.550942</td>\n",
       "      <td>34.99</td>\n",
       "    </tr>\n",
       "    <tr>\n",
       "      <th>cotton</th>\n",
       "      <td>0.071170</td>\n",
       "      <td>0.00</td>\n",
       "      <td>1.00</td>\n",
       "      <td>1.00</td>\n",
       "      <td>-8.047276</td>\n",
       "      <td>96.558294</td>\n",
       "      <td>0.971163</td>\n",
       "      <td>0.99</td>\n",
       "    </tr>\n",
       "    <tr>\n",
       "      <th>spandex</th>\n",
       "      <td>0.007510</td>\n",
       "      <td>0.00</td>\n",
       "      <td>0.02</td>\n",
       "      <td>0.02</td>\n",
       "      <td>-0.189185</td>\n",
       "      <td>-1.207719</td>\n",
       "      <td>0.011136</td>\n",
       "      <td>0.01</td>\n",
       "    </tr>\n",
       "    <tr>\n",
       "      <th>elastomultiester</th>\n",
       "      <td>0.019438</td>\n",
       "      <td>0.00</td>\n",
       "      <td>0.09</td>\n",
       "      <td>0.09</td>\n",
       "      <td>3.803933</td>\n",
       "      <td>12.567739</td>\n",
       "      <td>0.004820</td>\n",
       "      <td>0.00</td>\n",
       "    </tr>\n",
       "    <tr>\n",
       "      <th>polyester</th>\n",
       "      <td>0.044210</td>\n",
       "      <td>0.00</td>\n",
       "      <td>0.21</td>\n",
       "      <td>0.21</td>\n",
       "      <td>4.157907</td>\n",
       "      <td>15.369454</td>\n",
       "      <td>0.010111</td>\n",
       "      <td>0.00</td>\n",
       "    </tr>\n",
       "    <tr>\n",
       "      <th>lyocell</th>\n",
       "      <td>0.028927</td>\n",
       "      <td>0.00</td>\n",
       "      <td>0.55</td>\n",
       "      <td>0.55</td>\n",
       "      <td>18.960375</td>\n",
       "      <td>358.488877</td>\n",
       "      <td>0.001524</td>\n",
       "      <td>0.00</td>\n",
       "    </tr>\n",
       "    <tr>\n",
       "      <th>rayon</th>\n",
       "      <td>0.007889</td>\n",
       "      <td>0.00</td>\n",
       "      <td>0.15</td>\n",
       "      <td>0.15</td>\n",
       "      <td>18.960375</td>\n",
       "      <td>358.488877</td>\n",
       "      <td>0.000416</td>\n",
       "      <td>0.00</td>\n",
       "    </tr>\n",
       "  </tbody>\n",
       "</table>\n",
       "</div>"
      ],
      "text/plain": [
       "                       std    min    max  range       skew    kurtosis  \\\n",
       "product_price     7.100216  19.99  49.99  30.00  -0.300819   -0.293043   \n",
       "cotton            0.071170   0.00   1.00   1.00  -8.047276   96.558294   \n",
       "spandex           0.007510   0.00   0.02   0.02  -0.189185   -1.207719   \n",
       "elastomultiester  0.019438   0.00   0.09   0.09   3.803933   12.567739   \n",
       "polyester         0.044210   0.00   0.21   0.21   4.157907   15.369454   \n",
       "lyocell           0.028927   0.00   0.55   0.55  18.960375  358.488877   \n",
       "rayon             0.007889   0.00   0.15   0.15  18.960375  358.488877   \n",
       "\n",
       "                       mean  median  \n",
       "product_price     35.550942   34.99  \n",
       "cotton             0.971163    0.99  \n",
       "spandex            0.011136    0.01  \n",
       "elastomultiester   0.004820    0.00  \n",
       "polyester          0.010111    0.00  \n",
       "lyocell            0.001524    0.00  \n",
       "rayon              0.000416    0.00  "
      ]
     },
     "execution_count": 67,
     "metadata": {},
     "output_type": "execute_result"
    }
   ],
   "source": [
    "#métricas de tendência central - media, mediana\n",
    "central_tendency = num_attributes.describe().loc[[\"mean\", \"50%\"]]\n",
    "central_tendency = central_tendency.rename(index={'50%': 'median'})\n",
    "\n",
    "#métricas de dispersão - std, min, max, range, skew, kurtosis\n",
    "dispersion = num_attributes.describe().loc[[\"std\", \"min\", \"max\"]]\n",
    "d1 = pd.DataFrame(num_attributes.apply(lambda x: x.max() - x.min())).T.rename(index={0:'range'})\n",
    "d2 = pd.DataFrame(num_attributes.apply(lambda x: x.skew())).T.rename(index={0:'skew'})\n",
    "d3 = pd.DataFrame(num_attributes.apply(lambda x: x.kurtosis())).T.rename(index={0:'kurtosis'})\n",
    "dispersion = pd.concat([dispersion, d1, d2, d3])\n",
    "\n",
    "#concat\n",
    "describe = pd.concat([dispersion, central_tendency]).T\n",
    "\n",
    "describe"
   ]
  },
  {
   "cell_type": "markdown",
   "id": "5d580180",
   "metadata": {},
   "source": [
    "* <b> range </b>: estimativa de variabilidade ou dispersão.\n",
    "\n",
    "\n",
    "* <b> média </b>: é um número que representa um ponto central de uma nuvem de pontos. Mais sensível aos outliers.\n",
    "\n",
    "\n",
    "* <b> mediana </b>: é o número do meio de uma lista ordenada. Outra forma de resumir essa nuvem de pontos. Menos sensível aos outliers.\n",
    "\n",
    "\n",
    "* <b> std </b>: medida de variabilidade/dispersão. A localização é uma forma de resumir uma nuvem de pontos. Mas é possível complementar ela. Medida de localização diz qual é o ponto central, medida de dispersão diz como os dados estão distribuídos em torno desse ponto central. É a raiz quadradada da variância. A variância é a soma dos desvios (de cada ponto a media) elevados ao quadrado (para remover o sinal -) dividido por n-1. Divide por n-1 para utilizar um estimador não enviesado, grau de liberdade = 1.\n",
    "\n",
    "\n",
    "* <b> skewness </b>: medida do quanto uma distribuição de dados desvia de uma distribuição normal. Sendo que a distribuição normal não possui skewness, ou seja, os dados estão distribuídos perfeitamente ao redor da média.\n",
    "\n",
    "    * Skewness positiva e negativa - para determinar se uma distribuição tem skewness positiva ou negativa é preciso olhar para duas métricas: a média e a mediana. Se média = mediana -> distribuição dos dados está simétrica, 0 skewness. Se mediana > média -> deslocamento dos dados para a direita, skewness negativa (cauda a esquerda). Se mediana < média -> deslocamento dos dados para a esquerda, skewness positiva (cauda a direita).\n",
    "\n",
    "    * Como interpretar a skewness nos dados? Se tem skewness negativa (left-skewed), os dados estão concentrados acima da média. Se tem skewness positiva (right-skewed), os dados estão concentrados abaixo da média. É importante, também, saber a skewness da variável resposta, pois a maioria dos algoritmos de ML leva em conta que a distribuição é normal, pois se tem concentração dos dados de um lado ou de outro, está enviesando o modelo, pois terá mais exemplos de treino.\n",
    "\n",
    "\n",
    "* <b> kurtosis </b> - descreve a distribuição dos dados em torno da média. Evidencia uma distribuição de caudas longas. (Probabilidade baixa de acontecer valores extremos).\n",
    "\n",
    "    * Se não tem caudas longas, a distribuição é mais flat\n",
    "    * kurtosis baixa -> não tem tanta cauda longa, distribuição mais flat, não tem concentração dos dados na média, tem mais chances de acontecer valores mais extremos tanto abaixo quanto na média\n",
    "    * kurtosis alta -> tem cauda longa, concentração muito alta ao redor da média"
   ]
  },
  {
   "cell_type": "markdown",
   "id": "449b7755",
   "metadata": {},
   "source": [
    "#### 1.5.2 Colunas categóricas"
   ]
  },
  {
   "cell_type": "markdown",
   "id": "81e50e28",
   "metadata": {},
   "source": [
    "# 2.0 Feature Engineering"
   ]
  },
  {
   "cell_type": "code",
   "execution_count": null,
   "id": "d5dc1ac5",
   "metadata": {},
   "outputs": [],
   "source": []
  },
  {
   "cell_type": "markdown",
   "id": "368c19f4",
   "metadata": {},
   "source": [
    "# 3.0 Filtragem dos atributos"
   ]
  },
  {
   "cell_type": "markdown",
   "id": "81473d5e",
   "metadata": {},
   "source": [
    "# 4.0 Exploratory Data Analysis"
   ]
  },
  {
   "cell_type": "code",
   "execution_count": null,
   "id": "1d11683c",
   "metadata": {},
   "outputs": [],
   "source": []
  }
 ],
 "metadata": {
  "kernelspec": {
   "display_name": "Python 3 (ipykernel)",
   "language": "python",
   "name": "python3"
  },
  "language_info": {
   "codemirror_mode": {
    "name": "ipython",
    "version": 3
   },
   "file_extension": ".py",
   "mimetype": "text/x-python",
   "name": "python",
   "nbconvert_exporter": "python",
   "pygments_lexer": "ipython3",
   "version": "3.9.12"
  }
 },
 "nbformat": 4,
 "nbformat_minor": 5
}

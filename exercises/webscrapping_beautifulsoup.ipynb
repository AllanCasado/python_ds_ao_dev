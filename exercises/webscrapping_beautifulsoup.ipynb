{
 "cells": [
  {
   "cell_type": "code",
   "execution_count": 68,
   "id": "e2ef53ba",
   "metadata": {},
   "outputs": [],
   "source": [
    "from bs4 import BeautifulSoup\n",
    "import requests\n",
    "from datetime import datetime"
   ]
  },
  {
   "cell_type": "markdown",
   "id": "ab68fceb",
   "metadata": {},
   "source": [
    "# Atributos que serão extraídos"
   ]
  },
  {
   "cell_type": "markdown",
   "id": "5cade1d1",
   "metadata": {},
   "source": [
    "1. id\n",
    "2. nome do produto\n",
    "3. tipo do produto\n",
    "4. cor do produto \n",
    "5. composição do produto\n",
    "6. preço"
   ]
  },
  {
   "cell_type": "markdown",
   "id": "836f92fa",
   "metadata": {},
   "source": [
    "# Web Scrapping"
   ]
  },
  {
   "cell_type": "code",
   "execution_count": 14,
   "id": "f3ae624a",
   "metadata": {},
   "outputs": [],
   "source": [
    "#url em que a requisição será feita\n",
    "url = 'https://www2.hm.com/en_us/men/products/jeans.html'\n",
    "\n",
    "#fazendo a requisição\n",
    "headers = {'User-Agent': 'Mozilla/5.0 (Windows NT 10.0; Win64; x64) AppleWebKit/537.36 (KHTML, like Gecko) Chrome/108.0.0.0 Safari/537.36'}\n",
    "page = requests.get(url, headers=headers)\n",
    "\n",
    "#pegando o html da página\n",
    "html = page.text"
   ]
  },
  {
   "cell_type": "code",
   "execution_count": 17,
   "id": "a533b794",
   "metadata": {},
   "outputs": [],
   "source": [
    "#criando um objeto a partir do html\n",
    "soup = BeautifulSoup(html, 'html.parser')"
   ]
  },
  {
   "cell_type": "markdown",
   "id": "8cbc4be2",
   "metadata": {},
   "source": [
    "### Coletando id, nome, tipo e preço"
   ]
  },
  {
   "cell_type": "code",
   "execution_count": 20,
   "id": "09a4416a",
   "metadata": {},
   "outputs": [],
   "source": [
    "#buscando pela lista que contém todos produtos\n",
    "all_products = soup.find('ul', class_='products-listing small')"
   ]
  },
  {
   "cell_type": "code",
   "execution_count": 42,
   "id": "79f80d99",
   "metadata": {},
   "outputs": [],
   "source": [
    "#fazendo uma lista que tem o html de cada produto\n",
    "products_list = all_products.find_all('article', class_='hm-product-item')"
   ]
  },
  {
   "cell_type": "code",
   "execution_count": 55,
   "id": "978dd3df",
   "metadata": {},
   "outputs": [],
   "source": [
    "#lista para armazenar tipo e preço de cada produto\n",
    "products_id, products_type, products_price, products_name = [],[],[],[]"
   ]
  },
  {
   "cell_type": "code",
   "execution_count": 56,
   "id": "d0feb852",
   "metadata": {},
   "outputs": [],
   "source": [
    "#iterando em todos os produtos e pegando preço e tipo\n",
    "for product in products_list:\n",
    "    product_details = product.find('div', class_='item-details')\n",
    "    products_id.append(product.get('data-articlecode'))\n",
    "    products_type.append(product.get('data-category'))\n",
    "    products_price.append(product_details.find('span', class_='price regular').get_text())\n",
    "    products_name.append(product_details.find('a', class_='link').get_text())"
   ]
  },
  {
   "cell_type": "code",
   "execution_count": 69,
   "id": "acf3fd2c",
   "metadata": {},
   "outputs": [],
   "source": [
    "#criando um dataframe com os dados coletando até agora\n",
    "df = pd.DataFrame([products_id, products_name, products_type, products_price]).T\n",
    "df.columns = ['product_id', 'product_name', 'product_type', 'product_price']\n",
    "df['scrapy_datetime'] = datetime.now().strftime('%Y-%m-%d %H:%M:%S')"
   ]
  },
  {
   "cell_type": "code",
   "execution_count": 70,
   "id": "cc1a5624",
   "metadata": {},
   "outputs": [
    {
     "data": {
      "text/html": [
       "<div>\n",
       "<style scoped>\n",
       "    .dataframe tbody tr th:only-of-type {\n",
       "        vertical-align: middle;\n",
       "    }\n",
       "\n",
       "    .dataframe tbody tr th {\n",
       "        vertical-align: top;\n",
       "    }\n",
       "\n",
       "    .dataframe thead th {\n",
       "        text-align: right;\n",
       "    }\n",
       "</style>\n",
       "<table border=\"1\" class=\"dataframe\">\n",
       "  <thead>\n",
       "    <tr style=\"text-align: right;\">\n",
       "      <th></th>\n",
       "      <th>product_id</th>\n",
       "      <th>product_name</th>\n",
       "      <th>product_type</th>\n",
       "      <th>product_price</th>\n",
       "      <th>scrapy_datetime</th>\n",
       "    </tr>\n",
       "  </thead>\n",
       "  <tbody>\n",
       "    <tr>\n",
       "      <th>0</th>\n",
       "      <td>1096385002</td>\n",
       "      <td>Loose Jeans</td>\n",
       "      <td>men_jeans_loose</td>\n",
       "      <td>$ 29.99</td>\n",
       "      <td>2022-12-14 21:25:06</td>\n",
       "    </tr>\n",
       "    <tr>\n",
       "      <th>1</th>\n",
       "      <td>1024256001</td>\n",
       "      <td>Slim Jeans</td>\n",
       "      <td>men_jeans_slim</td>\n",
       "      <td>$ 19.99</td>\n",
       "      <td>2022-12-14 21:25:06</td>\n",
       "    </tr>\n",
       "    <tr>\n",
       "      <th>2</th>\n",
       "      <td>0985159001</td>\n",
       "      <td>Skinny Jeans</td>\n",
       "      <td>men_jeans_skinny</td>\n",
       "      <td>$ 24.99</td>\n",
       "      <td>2022-12-14 21:25:06</td>\n",
       "    </tr>\n",
       "    <tr>\n",
       "      <th>3</th>\n",
       "      <td>1008549001</td>\n",
       "      <td>Regular Jeans</td>\n",
       "      <td>men_jeans_regular</td>\n",
       "      <td>$ 24.99</td>\n",
       "      <td>2022-12-14 21:25:06</td>\n",
       "    </tr>\n",
       "    <tr>\n",
       "      <th>4</th>\n",
       "      <td>1008549006</td>\n",
       "      <td>Regular Jeans</td>\n",
       "      <td>men_jeans_regular</td>\n",
       "      <td>$ 24.99</td>\n",
       "      <td>2022-12-14 21:25:06</td>\n",
       "    </tr>\n",
       "  </tbody>\n",
       "</table>\n",
       "</div>"
      ],
      "text/plain": [
       "   product_id   product_name       product_type product_price  \\\n",
       "0  1096385002    Loose Jeans    men_jeans_loose       $ 29.99   \n",
       "1  1024256001     Slim Jeans     men_jeans_slim       $ 19.99   \n",
       "2  0985159001   Skinny Jeans   men_jeans_skinny       $ 24.99   \n",
       "3  1008549001  Regular Jeans  men_jeans_regular       $ 24.99   \n",
       "4  1008549006  Regular Jeans  men_jeans_regular       $ 24.99   \n",
       "\n",
       "       scrapy_datetime  \n",
       "0  2022-12-14 21:25:06  \n",
       "1  2022-12-14 21:25:06  \n",
       "2  2022-12-14 21:25:06  \n",
       "3  2022-12-14 21:25:06  \n",
       "4  2022-12-14 21:25:06  "
      ]
     },
     "execution_count": 70,
     "metadata": {},
     "output_type": "execute_result"
    }
   ],
   "source": [
    "df.head()"
   ]
  },
  {
   "cell_type": "code",
   "execution_count": null,
   "id": "d22a6d48",
   "metadata": {},
   "outputs": [],
   "source": []
  }
 ],
 "metadata": {
  "kernelspec": {
   "display_name": "Python 3",
   "language": "python",
   "name": "python3"
  },
  "language_info": {
   "codemirror_mode": {
    "name": "ipython",
    "version": 3
   },
   "file_extension": ".py",
   "mimetype": "text/x-python",
   "name": "python",
   "nbconvert_exporter": "python",
   "pygments_lexer": "ipython3",
   "version": "3.8.0"
  }
 },
 "nbformat": 4,
 "nbformat_minor": 5
}

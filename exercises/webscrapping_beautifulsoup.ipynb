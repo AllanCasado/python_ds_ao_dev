{
 "cells": [
  {
   "cell_type": "code",
   "execution_count": 8,
   "id": "5a15776e",
   "metadata": {},
   "outputs": [
    {
     "name": "stdout",
     "output_type": "stream",
     "text": [
      "Collecting requests\n",
      "  Using cached requests-2.28.1-py3-none-any.whl (62 kB)\n",
      "Collecting urllib3<1.27,>=1.21.1\n",
      "  Using cached urllib3-1.26.13-py2.py3-none-any.whl (140 kB)\n",
      "Collecting idna<4,>=2.5\n",
      "  Using cached idna-3.4-py3-none-any.whl (61 kB)\n",
      "Requirement already satisfied: certifi>=2017.4.17 in c:\\users\\allan\\anaconda3\\envs\\python_ds_ao_dev\\lib\\site-packages (from requests) (2022.9.24)\n",
      "Collecting charset-normalizer<3,>=2\n",
      "  Using cached charset_normalizer-2.1.1-py3-none-any.whl (39 kB)\n",
      "Installing collected packages: urllib3, idna, charset-normalizer, requests\n",
      "Successfully installed charset-normalizer-2.1.1 idna-3.4 requests-2.28.1 urllib3-1.26.13\n"
     ]
    }
   ],
   "source": [
    "!pip install requests"
   ]
  },
  {
   "cell_type": "code",
   "execution_count": 68,
   "id": "49c3055f",
   "metadata": {},
   "outputs": [],
   "source": [
    "from bs4 import BeautifulSoup\n",
    "import requests\n",
    "from datetime import datetime"
   ]
  },
  {
   "cell_type": "markdown",
   "id": "b5175a23",
   "metadata": {},
   "source": [
    "# Atributos que serão extraídos"
   ]
  },
  {
   "cell_type": "code",
   "execution_count": 4,
   "id": "be3305d6",
   "metadata": {},
   "outputs": [],
   "source": [
    "import bs4"
   ]
  },
  {
   "cell_type": "markdown",
   "id": "01e76137",
   "metadata": {},
   "source": [
    "1. id\n",
    "2. nome do produto\n",
    "3. tipo do produto\n",
    "4. cor do produto \n",
    "5. composição do produto\n",
    "6. preço"
   ]
  },
  {
   "cell_type": "markdown",
   "id": "5500755e",
   "metadata": {},
   "source": [
    "# Web Scrapping"
   ]
  },
  {
   "cell_type": "code",
   "execution_count": 14,
   "id": "6d2491ae",
   "metadata": {},
   "outputs": [],
   "source": [
    "#url em que a requisição será feita\n",
    "url = 'https://www2.hm.com/en_us/men/products/jeans.html'\n",
    "\n",
    "#fazendo a requisição\n",
    "headers = {'User-Agent': 'Mozilla/5.0 (Windows NT 10.0; Win64; x64) AppleWebKit/537.36 (KHTML, like Gecko) Chrome/108.0.0.0 Safari/537.36'}\n",
    "page = requests.get(url, headers=headers)\n",
    "\n",
    "#pegando o html da página\n",
    "html = page.text"
   ]
  },
  {
   "cell_type": "code",
   "execution_count": 17,
   "id": "7f20d9f1",
   "metadata": {},
   "outputs": [],
   "source": [
    "#criando um objeto a partir do html\n",
    "soup = BeautifulSoup(html, 'html.parser')"
   ]
  },
  {
   "cell_type": "code",
   "execution_count": 11,
   "id": "ced0e192",
   "metadata": {},
   "outputs": [],
   "source": [
    "#fazendo a requisição\n",
    "\n",
    "page = requests.get(url, heade)"
   ]
  },
  {
   "cell_type": "code",
   "execution_count": 12,
   "id": "31b26bb0",
   "metadata": {},
   "outputs": [],
   "source": [
    "#pegando o html da página\n",
    "html = page.text"
   ]
  },
  {
   "cell_type": "markdown",
   "id": "438ff609",
   "metadata": {},
   "source": [
    "### Coletando id, nome, tipo e preço"
   ]
  },
  {
   "cell_type": "code",
   "execution_count": 98,
   "id": "c6f64f76",
   "metadata": {},
   "outputs": [],
   "source": [
    "#buscando pela lista que contém todos produtos\n",
    "all_products = soup.find('ul', class_='products-listing small')"
   ]
  },
  {
   "cell_type": "code",
   "execution_count": 99,
   "id": "a097a93e",
   "metadata": {},
   "outputs": [],
   "source": [
    "#fazendo uma lista que tem o html de cada produto\n",
    "products_list = all_products.find_all('article', class_='hm-product-item')"
   ]
  },
  {
   "cell_type": "code",
   "execution_count": 100,
   "id": "2853529f",
   "metadata": {},
   "outputs": [],
   "source": [
    "#lista para armazenar tipo e preço de cada produto\n",
    "products_id, products_type, products_price, products_name = [],[],[],[]"
   ]
  },
  {
   "cell_type": "code",
   "execution_count": 101,
   "id": "77d82942",
   "metadata": {},
   "outputs": [],
   "source": [
    "#iterando em todos os produtos e pegando preço e tipo\n",
    "for product in products_list:\n",
    "    product_details = product.find('div', class_='item-details')\n",
    "    products_id.append(product.get('data-articlecode'))\n",
    "    products_type.append(product.get('data-category'))\n",
    "    products_price.append(product_details.find('span', class_='price regular').get_text())\n",
    "    products_name.append(product_details.find('a', class_='link').get_text())"
   ]
  },
  {
   "cell_type": "code",
   "execution_count": 102,
   "id": "f6f406d4",
   "metadata": {},
   "outputs": [],
   "source": [
    "#criando um dataframe com os dados coletando até agora\n",
    "df = pd.DataFrame([products_id, products_name, products_type, products_price]).T\n",
    "df.columns = ['product_id', 'product_name', 'product_type', 'product_price']\n",
    "df['scrapy_datetime'] = datetime.now().strftime('%Y-%m-%d %H:%M:%S')"
   ]
  },
  {
   "cell_type": "code",
   "execution_count": 103,
   "id": "1b24dd5a",
   "metadata": {},
   "outputs": [
    {
     "data": {
      "text/html": [
       "<div>\n",
       "<style scoped>\n",
       "    .dataframe tbody tr th:only-of-type {\n",
       "        vertical-align: middle;\n",
       "    }\n",
       "\n",
       "    .dataframe tbody tr th {\n",
       "        vertical-align: top;\n",
       "    }\n",
       "\n",
       "    .dataframe thead th {\n",
       "        text-align: right;\n",
       "    }\n",
       "</style>\n",
       "<table border=\"1\" class=\"dataframe\">\n",
       "  <thead>\n",
       "    <tr style=\"text-align: right;\">\n",
       "      <th></th>\n",
       "      <th>product_id</th>\n",
       "      <th>product_name</th>\n",
       "      <th>product_type</th>\n",
       "      <th>product_price</th>\n",
       "      <th>scrapy_datetime</th>\n",
       "    </tr>\n",
       "  </thead>\n",
       "  <tbody>\n",
       "    <tr>\n",
       "      <th>0</th>\n",
       "      <td>1096385002</td>\n",
       "      <td>Loose Jeans</td>\n",
       "      <td>men_jeans_loose</td>\n",
       "      <td>$ 29.99</td>\n",
       "      <td>2022-12-14 21:49:04</td>\n",
       "    </tr>\n",
       "    <tr>\n",
       "      <th>1</th>\n",
       "      <td>1024256001</td>\n",
       "      <td>Slim Jeans</td>\n",
       "      <td>men_jeans_slim</td>\n",
       "      <td>$ 19.99</td>\n",
       "      <td>2022-12-14 21:49:04</td>\n",
       "    </tr>\n",
       "    <tr>\n",
       "      <th>2</th>\n",
       "      <td>0985159001</td>\n",
       "      <td>Skinny Jeans</td>\n",
       "      <td>men_jeans_skinny</td>\n",
       "      <td>$ 24.99</td>\n",
       "      <td>2022-12-14 21:49:04</td>\n",
       "    </tr>\n",
       "    <tr>\n",
       "      <th>3</th>\n",
       "      <td>1008549001</td>\n",
       "      <td>Regular Jeans</td>\n",
       "      <td>men_jeans_regular</td>\n",
       "      <td>$ 24.99</td>\n",
       "      <td>2022-12-14 21:49:04</td>\n",
       "    </tr>\n",
       "    <tr>\n",
       "      <th>4</th>\n",
       "      <td>1008549006</td>\n",
       "      <td>Regular Jeans</td>\n",
       "      <td>men_jeans_regular</td>\n",
       "      <td>$ 24.99</td>\n",
       "      <td>2022-12-14 21:49:04</td>\n",
       "    </tr>\n",
       "  </tbody>\n",
       "</table>\n",
       "</div>"
      ],
      "text/plain": [
       "   product_id   product_name       product_type product_price  \\\n",
       "0  1096385002    Loose Jeans    men_jeans_loose       $ 29.99   \n",
       "1  1024256001     Slim Jeans     men_jeans_slim       $ 19.99   \n",
       "2  0985159001   Skinny Jeans   men_jeans_skinny       $ 24.99   \n",
       "3  1008549001  Regular Jeans  men_jeans_regular       $ 24.99   \n",
       "4  1008549006  Regular Jeans  men_jeans_regular       $ 24.99   \n",
       "\n",
       "       scrapy_datetime  \n",
       "0  2022-12-14 21:49:04  \n",
       "1  2022-12-14 21:49:04  \n",
       "2  2022-12-14 21:49:04  \n",
       "3  2022-12-14 21:49:04  \n",
       "4  2022-12-14 21:49:04  "
      ]
     },
     "execution_count": 103,
     "metadata": {},
     "output_type": "execute_result"
    }
   ],
   "source": [
    "df.head()"
   ]
  },
  {
   "cell_type": "markdown",
   "id": "9237bb7d",
   "metadata": {},
   "source": [
    "### Coletando os atributos id, nome, tipo e preço de todos os produtos"
   ]
  },
  {
   "cell_type": "markdown",
   "id": "3673d1cd",
   "metadata": {},
   "source": [
    "No exemplo acima, coletamos apenas o 36 primeiros items da vitrine. Aqueles que aparecem na primeira página. Nessa segunda versão, estamos passando por todas as páginas daquele produto e coletando todos os produtos."
   ]
  },
  {
   "cell_type": "code",
   "execution_count": 104,
   "id": "a0092c5c",
   "metadata": {},
   "outputs": [],
   "source": [
    "#coletando quantos items existem ao total daquela categoria específica\n",
    "total_items = int(soup.find('h2', class_='load-more-heading').get('data-total'))"
   ]
  },
  {
   "cell_type": "code",
   "execution_count": 105,
   "id": "6b85f084",
   "metadata": {},
   "outputs": [],
   "source": [
    "#considerando que cada página mostra 36 produtos, vemos quantas paginas precisam\n",
    "page_number = int(round(total_items/36))"
   ]
  },
  {
   "cell_type": "code",
   "execution_count": 128,
   "id": "b8e1901f",
   "metadata": {},
   "outputs": [],
   "source": [
    "#url para pegar todos os produtos\n",
    "url2 = url + \"?page-size=\" + str(page_number*36)"
   ]
  },
  {
   "cell_type": "code",
   "execution_count": 138,
   "id": "cf7bbdf7",
   "metadata": {},
   "outputs": [],
   "source": [
    "#fazendo a requisição\n",
    "headers = {'User-Agent': 'Mozilla/5.0 (Windows NT 10.0; Win64; x64) AppleWebKit/537.36 (KHTML, like Gecko) Chrome/108.0.0.0 Safari/537.36'}\n",
    "page = requests.get(url2, headers=headers)\n",
    "\n",
    "#pegando o html da página\n",
    "html = page.text"
   ]
  },
  {
   "cell_type": "code",
   "execution_count": 131,
   "id": "fe9ec8b3",
   "metadata": {},
   "outputs": [],
   "source": [
    "#criando um objeto do BeautifulSoup a partir do html\n",
    "soup_pagination = BeautifulSoup(html)"
   ]
  },
  {
   "cell_type": "code",
   "execution_count": 132,
   "id": "e04422c5",
   "metadata": {},
   "outputs": [],
   "source": [
    "#buscando pela lista que contém todos produtos\n",
    "all_products = soup_pagination.find('ul', class_='products-listing small')"
   ]
  },
  {
   "cell_type": "code",
   "execution_count": 133,
   "id": "8a157f71",
   "metadata": {},
   "outputs": [],
   "source": [
    "#fazendo uma lista que tem o html de cada produto\n",
    "products_list = all_products.find_all('article', class_='hm-product-item')"
   ]
  },
  {
   "cell_type": "code",
   "execution_count": 134,
   "id": "379b03eb",
   "metadata": {},
   "outputs": [],
   "source": [
    "#lista para armazenar tipo e preço de cada produto\n",
    "products_id, products_type, products_price, products_name = [],[],[],[]"
   ]
  },
  {
   "cell_type": "code",
   "execution_count": 135,
   "id": "cebc28c4",
   "metadata": {},
   "outputs": [],
   "source": [
    "#iterando em todos os produtos e pegando preço e tipo\n",
    "for product in products_list:\n",
    "    product_details = product.find('div', class_='item-details')\n",
    "    products_id.append(product.get('data-articlecode'))\n",
    "    products_type.append(product.get('data-category'))\n",
    "    products_price.append(product_details.find('span', class_='price regular').get_text())\n",
    "    products_name.append(product_details.find('a', class_='link').get_text())"
   ]
  },
  {
   "cell_type": "code",
   "execution_count": 136,
   "id": "26021bb1",
   "metadata": {},
   "outputs": [],
   "source": [
    "#criando um dataframe com os dados coletando até agora\n",
    "df = pd.DataFrame([products_id, products_name, products_type, products_price]).T\n",
    "df.columns = ['product_id', 'product_name', 'product_type', 'product_price']\n",
    "df['scrapy_datetime'] = datetime.now().strftime('%Y-%m-%d %H:%M:%S')"
   ]
  },
  {
   "cell_type": "code",
   "execution_count": 139,
   "id": "030d8702",
   "metadata": {},
   "outputs": [
    {
     "data": {
      "text/plain": [
       "(92, 5)"
      ]
     },
     "execution_count": 139,
     "metadata": {},
     "output_type": "execute_result"
    }
   ],
   "source": [
    "df.shape"
   ]
  },
  {
   "cell_type": "code",
   "execution_count": 140,
   "id": "446e38af",
   "metadata": {},
   "outputs": [
    {
     "data": {
      "text/html": [
       "<div>\n",
       "<style scoped>\n",
       "    .dataframe tbody tr th:only-of-type {\n",
       "        vertical-align: middle;\n",
       "    }\n",
       "\n",
       "    .dataframe tbody tr th {\n",
       "        vertical-align: top;\n",
       "    }\n",
       "\n",
       "    .dataframe thead th {\n",
       "        text-align: right;\n",
       "    }\n",
       "</style>\n",
       "<table border=\"1\" class=\"dataframe\">\n",
       "  <thead>\n",
       "    <tr style=\"text-align: right;\">\n",
       "      <th></th>\n",
       "      <th>product_id</th>\n",
       "      <th>product_name</th>\n",
       "      <th>product_type</th>\n",
       "      <th>product_price</th>\n",
       "      <th>scrapy_datetime</th>\n",
       "    </tr>\n",
       "  </thead>\n",
       "  <tbody>\n",
       "    <tr>\n",
       "      <th>0</th>\n",
       "      <td>1096385002</td>\n",
       "      <td>Loose Jeans</td>\n",
       "      <td>men_jeans_loose</td>\n",
       "      <td>$ 29.99</td>\n",
       "      <td>2022-12-14 21:57:07</td>\n",
       "    </tr>\n",
       "    <tr>\n",
       "      <th>1</th>\n",
       "      <td>1024256001</td>\n",
       "      <td>Slim Jeans</td>\n",
       "      <td>men_jeans_slim</td>\n",
       "      <td>$ 19.99</td>\n",
       "      <td>2022-12-14 21:57:07</td>\n",
       "    </tr>\n",
       "    <tr>\n",
       "      <th>2</th>\n",
       "      <td>0985159001</td>\n",
       "      <td>Skinny Jeans</td>\n",
       "      <td>men_jeans_skinny</td>\n",
       "      <td>$ 24.99</td>\n",
       "      <td>2022-12-14 21:57:07</td>\n",
       "    </tr>\n",
       "    <tr>\n",
       "      <th>3</th>\n",
       "      <td>1008549001</td>\n",
       "      <td>Regular Jeans</td>\n",
       "      <td>men_jeans_regular</td>\n",
       "      <td>$ 24.99</td>\n",
       "      <td>2022-12-14 21:57:07</td>\n",
       "    </tr>\n",
       "    <tr>\n",
       "      <th>4</th>\n",
       "      <td>1008549006</td>\n",
       "      <td>Regular Jeans</td>\n",
       "      <td>men_jeans_regular</td>\n",
       "      <td>$ 24.99</td>\n",
       "      <td>2022-12-14 21:57:07</td>\n",
       "    </tr>\n",
       "    <tr>\n",
       "      <th>...</th>\n",
       "      <td>...</td>\n",
       "      <td>...</td>\n",
       "      <td>...</td>\n",
       "      <td>...</td>\n",
       "      <td>...</td>\n",
       "    </tr>\n",
       "    <tr>\n",
       "      <th>87</th>\n",
       "      <td>0875105016</td>\n",
       "      <td>Relaxed Jeans</td>\n",
       "      <td>men_jeans_relaxed</td>\n",
       "      <td>$ 39.99</td>\n",
       "      <td>2022-12-14 21:57:07</td>\n",
       "    </tr>\n",
       "    <tr>\n",
       "      <th>88</th>\n",
       "      <td>0985197006</td>\n",
       "      <td>Slim Jeans</td>\n",
       "      <td>men_jeans_slim</td>\n",
       "      <td>$ 19.99</td>\n",
       "      <td>2022-12-14 21:57:07</td>\n",
       "    </tr>\n",
       "    <tr>\n",
       "      <th>89</th>\n",
       "      <td>0811993034</td>\n",
       "      <td>Regular Jeans</td>\n",
       "      <td>men_jeans_regular</td>\n",
       "      <td>$ 29.99</td>\n",
       "      <td>2022-12-14 21:57:07</td>\n",
       "    </tr>\n",
       "    <tr>\n",
       "      <th>90</th>\n",
       "      <td>0985159006</td>\n",
       "      <td>Skinny Jeans</td>\n",
       "      <td>men_jeans_skinny</td>\n",
       "      <td>$ 24.99</td>\n",
       "      <td>2022-12-14 21:57:07</td>\n",
       "    </tr>\n",
       "    <tr>\n",
       "      <th>91</th>\n",
       "      <td>1027852002</td>\n",
       "      <td>Relaxed Denim Joggers</td>\n",
       "      <td>men_jeans_joggers</td>\n",
       "      <td>$ 29.99</td>\n",
       "      <td>2022-12-14 21:57:07</td>\n",
       "    </tr>\n",
       "  </tbody>\n",
       "</table>\n",
       "<p>92 rows × 5 columns</p>\n",
       "</div>"
      ],
      "text/plain": [
       "    product_id           product_name       product_type product_price  \\\n",
       "0   1096385002            Loose Jeans    men_jeans_loose       $ 29.99   \n",
       "1   1024256001             Slim Jeans     men_jeans_slim       $ 19.99   \n",
       "2   0985159001           Skinny Jeans   men_jeans_skinny       $ 24.99   \n",
       "3   1008549001          Regular Jeans  men_jeans_regular       $ 24.99   \n",
       "4   1008549006          Regular Jeans  men_jeans_regular       $ 24.99   \n",
       "..         ...                    ...                ...           ...   \n",
       "87  0875105016          Relaxed Jeans  men_jeans_relaxed       $ 39.99   \n",
       "88  0985197006             Slim Jeans     men_jeans_slim       $ 19.99   \n",
       "89  0811993034          Regular Jeans  men_jeans_regular       $ 29.99   \n",
       "90  0985159006           Skinny Jeans   men_jeans_skinny       $ 24.99   \n",
       "91  1027852002  Relaxed Denim Joggers  men_jeans_joggers       $ 29.99   \n",
       "\n",
       "        scrapy_datetime  \n",
       "0   2022-12-14 21:57:07  \n",
       "1   2022-12-14 21:57:07  \n",
       "2   2022-12-14 21:57:07  \n",
       "3   2022-12-14 21:57:07  \n",
       "4   2022-12-14 21:57:07  \n",
       "..                  ...  \n",
       "87  2022-12-14 21:57:07  \n",
       "88  2022-12-14 21:57:07  \n",
       "89  2022-12-14 21:57:07  \n",
       "90  2022-12-14 21:57:07  \n",
       "91  2022-12-14 21:57:07  \n",
       "\n",
       "[92 rows x 5 columns]"
      ]
     },
     "execution_count": 140,
     "metadata": {},
     "output_type": "execute_result"
    }
   ],
   "source": [
    "df.head"
   ]
  },
  {
   "cell_type": "code",
   "execution_count": null,
   "id": "ca4cc8eb",
   "metadata": {},
   "outputs": [],
   "source": []
  }
 ],
 "metadata": {
  "kernelspec": {
   "display_name": "Python 3",
   "language": "python",
   "name": "python3"
  },
  "language_info": {
   "codemirror_mode": {
    "name": "ipython",
    "version": 3
   },
   "file_extension": ".py",
   "mimetype": "text/x-python",
   "name": "python",
   "nbconvert_exporter": "python",
   "pygments_lexer": "ipython3",
   "version": "3.8.0"
  }
 },
 "nbformat": 4,
 "nbformat_minor": 5
}

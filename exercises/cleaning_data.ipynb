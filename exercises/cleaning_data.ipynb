{
 "cells": [
  {
   "cell_type": "markdown",
   "id": "40f568d9",
   "metadata": {},
   "source": [
    "# Importando bibliotecas"
   ]
  },
  {
   "cell_type": "code",
   "execution_count": 113,
   "id": "115e68f4",
   "metadata": {},
   "outputs": [],
   "source": [
    "import re\n",
    "import pandas as pd\n",
    "import numpy as np"
   ]
  },
  {
   "cell_type": "markdown",
   "id": "042dfa09",
   "metadata": {},
   "source": [
    "# Carregando os dados"
   ]
  },
  {
   "cell_type": "code",
   "execution_count": 114,
   "id": "5d4cd606",
   "metadata": {},
   "outputs": [],
   "source": [
    "df = pd.read_csv(\"./generated_data/df_raw_scrapping.csv\")\n",
    "df = df.drop(\"Unnamed: 0\", axis=1)"
   ]
  },
  {
   "cell_type": "code",
   "execution_count": 115,
   "id": "50bc2984",
   "metadata": {},
   "outputs": [
    {
     "data": {
      "text/html": [
       "<div>\n",
       "<style scoped>\n",
       "    .dataframe tbody tr th:only-of-type {\n",
       "        vertical-align: middle;\n",
       "    }\n",
       "\n",
       "    .dataframe tbody tr th {\n",
       "        vertical-align: top;\n",
       "    }\n",
       "\n",
       "    .dataframe thead th {\n",
       "        text-align: right;\n",
       "    }\n",
       "</style>\n",
       "<table border=\"1\" class=\"dataframe\">\n",
       "  <thead>\n",
       "    <tr style=\"text-align: right;\">\n",
       "      <th></th>\n",
       "      <th>product_id</th>\n",
       "      <th>product_name</th>\n",
       "      <th>product_type</th>\n",
       "      <th>product_colors</th>\n",
       "      <th>product_price</th>\n",
       "      <th>product_composition_shell</th>\n",
       "      <th>product_composition_pocket</th>\n",
       "      <th>scrapy_datetime</th>\n",
       "    </tr>\n",
       "  </thead>\n",
       "  <tbody>\n",
       "    <tr>\n",
       "      <th>0</th>\n",
       "      <td>1024256001</td>\n",
       "      <td>Slim Jeans</td>\n",
       "      <td>men_jeans_slim</td>\n",
       "      <td>Black</td>\n",
       "      <td>$ 19.99</td>\n",
       "      <td>Cotton 99%, Spandex 1%</td>\n",
       "      <td>Polyester 65%, Cotton 35%</td>\n",
       "      <td>2022-12-15 20:56:55</td>\n",
       "    </tr>\n",
       "    <tr>\n",
       "      <th>1</th>\n",
       "      <td>1024256001</td>\n",
       "      <td>Slim Jeans</td>\n",
       "      <td>men_jeans_slim</td>\n",
       "      <td>Light denim blue</td>\n",
       "      <td>$ 19.99</td>\n",
       "      <td>Cotton 99%, Spandex 1%</td>\n",
       "      <td>Polyester 65%, Cotton 35%</td>\n",
       "      <td>2022-12-15 20:56:55</td>\n",
       "    </tr>\n",
       "    <tr>\n",
       "      <th>2</th>\n",
       "      <td>1024256001</td>\n",
       "      <td>Slim Jeans</td>\n",
       "      <td>men_jeans_slim</td>\n",
       "      <td>Light denim blue</td>\n",
       "      <td>$ 19.99</td>\n",
       "      <td>Cotton 99%, Spandex 1%</td>\n",
       "      <td>Polyester 65%, Cotton 35%</td>\n",
       "      <td>2022-12-15 20:56:55</td>\n",
       "    </tr>\n",
       "    <tr>\n",
       "      <th>3</th>\n",
       "      <td>1024256001</td>\n",
       "      <td>Slim Jeans</td>\n",
       "      <td>men_jeans_slim</td>\n",
       "      <td>Denim blue</td>\n",
       "      <td>$ 19.99</td>\n",
       "      <td>Cotton 99%, Spandex 1%</td>\n",
       "      <td>Polyester 65%, Cotton 35%</td>\n",
       "      <td>2022-12-15 20:56:55</td>\n",
       "    </tr>\n",
       "    <tr>\n",
       "      <th>4</th>\n",
       "      <td>1024256001</td>\n",
       "      <td>Slim Jeans</td>\n",
       "      <td>men_jeans_slim</td>\n",
       "      <td>Dark blue</td>\n",
       "      <td>$ 19.99</td>\n",
       "      <td>Cotton 99%, Spandex 1%</td>\n",
       "      <td>Polyester 65%, Cotton 35%</td>\n",
       "      <td>2022-12-15 20:56:55</td>\n",
       "    </tr>\n",
       "  </tbody>\n",
       "</table>\n",
       "</div>"
      ],
      "text/plain": [
       "   product_id product_name    product_type    product_colors product_price  \\\n",
       "0  1024256001   Slim Jeans  men_jeans_slim             Black       $ 19.99   \n",
       "1  1024256001   Slim Jeans  men_jeans_slim  Light denim blue       $ 19.99   \n",
       "2  1024256001   Slim Jeans  men_jeans_slim  Light denim blue       $ 19.99   \n",
       "3  1024256001   Slim Jeans  men_jeans_slim        Denim blue       $ 19.99   \n",
       "4  1024256001   Slim Jeans  men_jeans_slim         Dark blue       $ 19.99   \n",
       "\n",
       "  product_composition_shell product_composition_pocket      scrapy_datetime  \n",
       "0    Cotton 99%, Spandex 1%  Polyester 65%, Cotton 35%  2022-12-15 20:56:55  \n",
       "1    Cotton 99%, Spandex 1%  Polyester 65%, Cotton 35%  2022-12-15 20:56:55  \n",
       "2    Cotton 99%, Spandex 1%  Polyester 65%, Cotton 35%  2022-12-15 20:56:55  \n",
       "3    Cotton 99%, Spandex 1%  Polyester 65%, Cotton 35%  2022-12-15 20:56:55  \n",
       "4    Cotton 99%, Spandex 1%  Polyester 65%, Cotton 35%  2022-12-15 20:56:55  "
      ]
     },
     "execution_count": 115,
     "metadata": {},
     "output_type": "execute_result"
    }
   ],
   "source": [
    "df.head()"
   ]
  },
  {
   "cell_type": "code",
   "execution_count": 116,
   "id": "6c427139",
   "metadata": {},
   "outputs": [
    {
     "data": {
      "text/plain": [
       "666"
      ]
     },
     "execution_count": 116,
     "metadata": {},
     "output_type": "execute_result"
    }
   ],
   "source": [
    "df.product_composition_shell.str.contains(\"Spandex\").sum()"
   ]
  },
  {
   "cell_type": "code",
   "execution_count": 117,
   "id": "b8ae0b46",
   "metadata": {},
   "outputs": [
    {
     "name": "stdout",
     "output_type": "stream",
     "text": [
      "<class 'pandas.core.frame.DataFrame'>\n",
      "RangeIndex: 849 entries, 0 to 848\n",
      "Data columns (total 8 columns):\n",
      " #   Column                      Non-Null Count  Dtype \n",
      "---  ------                      --------------  ----- \n",
      " 0   product_id                  849 non-null    int64 \n",
      " 1   product_name                849 non-null    object\n",
      " 2   product_type                849 non-null    object\n",
      " 3   product_colors              849 non-null    object\n",
      " 4   product_price               849 non-null    object\n",
      " 5   product_composition_shell   849 non-null    object\n",
      " 6   product_composition_pocket  605 non-null    object\n",
      " 7   scrapy_datetime             849 non-null    object\n",
      "dtypes: int64(1), object(7)\n",
      "memory usage: 53.2+ KB\n"
     ]
    }
   ],
   "source": [
    "df.info()"
   ]
  },
  {
   "cell_type": "code",
   "execution_count": 118,
   "id": "3e88837f",
   "metadata": {},
   "outputs": [
    {
     "data": {
      "text/plain": [
       "(849, 8)"
      ]
     },
     "execution_count": 118,
     "metadata": {},
     "output_type": "execute_result"
    }
   ],
   "source": [
    "df.shape"
   ]
  },
  {
   "cell_type": "markdown",
   "id": "ca4168e3",
   "metadata": {},
   "source": [
    "# Limpando os dados"
   ]
  },
  {
   "cell_type": "markdown",
   "id": "62b2c36b",
   "metadata": {},
   "source": [
    "### product_name"
   ]
  },
  {
   "cell_type": "code",
   "execution_count": 119,
   "id": "5754c94e",
   "metadata": {},
   "outputs": [],
   "source": [
    "df[\"product_name\"] = df[\"product_name\"].apply(lambda x: x.replace(\" \", \"_\").lower())"
   ]
  },
  {
   "cell_type": "markdown",
   "id": "2439a9f9",
   "metadata": {},
   "source": [
    "### product_colors"
   ]
  },
  {
   "cell_type": "code",
   "execution_count": 120,
   "id": "c5ec7b76",
   "metadata": {},
   "outputs": [],
   "source": [
    "df[\"product_colors\"] = df[\"product_colors\"].apply(lambda x: x.replace(\" \", \"_\").lower())"
   ]
  },
  {
   "cell_type": "markdown",
   "id": "02249e3e",
   "metadata": {},
   "source": [
    "### product_price"
   ]
  },
  {
   "cell_type": "code",
   "execution_count": 121,
   "id": "bea8eae6",
   "metadata": {},
   "outputs": [],
   "source": [
    "df[\"product_price\"] = df[\"product_price\"].apply(lambda x: x.replace(\"$\", \"\").strip())\n",
    "df[\"product_price\"] = df[\"product_price\"].astype(float)"
   ]
  },
  {
   "cell_type": "markdown",
   "id": "881711fc",
   "metadata": {},
   "source": [
    "### product_composition_shell"
   ]
  },
  {
   "cell_type": "code",
   "execution_count": 122,
   "id": "8bffb2e6",
   "metadata": {},
   "outputs": [
    {
     "data": {
      "text/plain": [
       "array(['Cotton 99%, Spandex 1%', 'Cotton 98%, Spandex 2%', 'Cotton 100%',\n",
       "       'Cotton 90%, Elastomultiester 8%, Spandex 2%',\n",
       "       'Cotton 89%, Elastomultiester 9%, Spandex 2%',\n",
       "       'Cotton 79%, Polyester 20%, Spandex 1%',\n",
       "       'Cotton 78%, Polyester 21%, Spandex 1%',\n",
       "       'Cotton 77%, Polyester 21%, Spandex 2%',\n",
       "       'Cotton 80%, Polyester 19%, Spandex 1%',\n",
       "       'Lyocell 55%, Cotton 30%, Rayon 15%', 'Rayon 50%, Lyocell 50%'],\n",
       "      dtype=object)"
      ]
     },
     "execution_count": 122,
     "metadata": {},
     "output_type": "execute_result"
    }
   ],
   "source": [
    "df.product_composition_shell.unique()"
   ]
  },
  {
   "cell_type": "markdown",
   "id": "6191daf7",
   "metadata": {},
   "source": [
    "Colunas que quero criar:\n",
    "\n",
    "    * Cotton\n",
    "    * Spandex\n",
    "    * Elastomultiester\n",
    "    * Polyester\n",
    "    * Lyocell\n",
    "    * Rayon"
   ]
  },
  {
   "cell_type": "code",
   "execution_count": 123,
   "id": "66213868",
   "metadata": {},
   "outputs": [],
   "source": [
    "# dataframe auxiliar\n",
    "df_aux = df.product_composition_shell.str.split(\",\", expand=True)"
   ]
  },
  {
   "cell_type": "code",
   "execution_count": 124,
   "id": "8916815b",
   "metadata": {},
   "outputs": [],
   "source": [
    "# criar um dataframe de referência\n",
    "df_ref = pd.DataFrame(index=np.arange(len(df)), columns=[\"cotton\", \"spandex\", \n",
    "                                                         \"elastomultiester\", \"polyester\", \"lyocell\", \"rayon\"])"
   ]
  },
  {
   "cell_type": "code",
   "execution_count": 125,
   "id": "06eee099",
   "metadata": {},
   "outputs": [],
   "source": [
    "#cotton\n",
    "df_cotton = df_aux.loc[df_aux[0].str.contains(\"Cotton\", na=True), 0]\n",
    "df_cotton.name = \"cotton\"\n",
    "df_ref = pd.concat([df_ref, df_cotton], axis=1)\n",
    "df_ref = df_ref.iloc[:, ~df_ref.columns.duplicated(keep=\"last\")]"
   ]
  },
  {
   "cell_type": "code",
   "execution_count": 126,
   "id": "f909cd49",
   "metadata": {},
   "outputs": [],
   "source": [
    "#spandex\n",
    "df_spandex = pd.Series(dtype=str)\n",
    "\n",
    "df_aux = df_aux.fillna(\"string vazia\")\n",
    "\n",
    "for i in df_aux.index:\n",
    "    spandex_in_1 = \"Spandex\" in df_aux.loc[i][1]\n",
    "    spandex_in_2 = \"Spandex\" in df_aux.loc[i][2]\n",
    "    if spandex_in_1:\n",
    "        df_spandex.loc[i] = df_aux.loc[i][1]\n",
    "    elif spandex_in_2:\n",
    "        df_spandex.loc[i] = df_aux.loc[i][2]\n",
    "    else:\n",
    "        df_spandex.loc[i] = np.nan\n",
    "        \n",
    "df_spandex.name = \"spandex\"\n",
    "\n",
    "df_ref = pd.concat([df_ref, df_spandex], axis=1)\n",
    "df_ref = df_ref.iloc[:, ~df_ref.columns.duplicated(keep=\"last\")]"
   ]
  },
  {
   "cell_type": "code",
   "execution_count": 127,
   "id": "5259ae34",
   "metadata": {},
   "outputs": [],
   "source": [
    "#elastomultiester\n",
    "df_elastomultiester = pd.Series(dtype=str)\n",
    "\n",
    "for i in df_aux.index:\n",
    "    elastomultiester_in_1 = \"Elastomultiester\" in df_aux.loc[i][1]\n",
    "    if elastomultiester_in_1:\n",
    "        df_elastomultiester.loc[i] = df_aux.loc[i][1]\n",
    "    else:\n",
    "        df_elastomultiester.loc[i] = np.nan\n",
    "\n",
    "df_elastomultiester.name = \"elastomultiester\"\n",
    "\n",
    "df_ref = pd.concat([df_ref, df_elastomultiester], axis=1)\n",
    "df_ref = df_ref.iloc[:, ~df_ref.columns.duplicated(keep=\"last\")]"
   ]
  },
  {
   "cell_type": "code",
   "execution_count": 128,
   "id": "a5f3e596",
   "metadata": {},
   "outputs": [],
   "source": [
    "#polyester\n",
    "df_polyester = pd.Series(dtype=str)\n",
    "\n",
    "for i in df_aux.index:\n",
    "    polyester_in_1 = \"Polyester\" in df_aux.loc[i][1]\n",
    "    if polyester_in_1:\n",
    "        df_polyester.loc[i] = df_aux.loc[i][1]\n",
    "    else:\n",
    "        df_polyester.loc[i] = np.nan\n",
    "        \n",
    "df_polyester.name = \"polyester\"\n",
    "\n",
    "df_ref = pd.concat([df_ref, df_polyester], axis=1)\n",
    "df_ref = df_ref.iloc[:, ~df_ref.columns.duplicated(keep=\"last\")]"
   ]
  },
  {
   "cell_type": "code",
   "execution_count": 129,
   "id": "74372aed",
   "metadata": {},
   "outputs": [],
   "source": [
    "#lyocell\n",
    "df_lyocell = pd.Series(dtype=str)\n",
    "\n",
    "for i in df_aux.index:\n",
    "    lyocell_in_0 = \"Lyocell\" in df_aux.loc[i][0]\n",
    "    lyocell_in_1 = \"Lyocell\" in df_aux.loc[i][1]\n",
    "    if lyocell_in_0:\n",
    "        df_lyocell.loc[i] = df_aux.loc[i][0]\n",
    "    elif lyocell_in_1:\n",
    "        df_lyocell.loc[i] = df_aux.loc[i][1]\n",
    "    else:\n",
    "        df_lyocell.loc[i] = np.nan\n",
    "        \n",
    "df_lyocell.name = \"lyocell\"\n",
    "\n",
    "df_ref = pd.concat([df_ref, df_lyocell], axis=1)\n",
    "df_ref = df_ref.iloc[:, ~df_ref.columns.duplicated(keep=\"last\")]"
   ]
  },
  {
   "cell_type": "code",
   "execution_count": 130,
   "id": "c8b96564",
   "metadata": {},
   "outputs": [],
   "source": [
    "#rayon\n",
    "df_rayon = pd.Series(dtype=str)\n",
    "\n",
    "for i in df_aux.index:\n",
    "    rayon_in_0 = \"Rayon\" in df_aux.loc[i][0]\n",
    "    rayon_in_2 = \"Rayon\" in df_aux.loc[i][2]\n",
    "    if rayon_in_0:\n",
    "        df_rayon.loc[i] = df_aux.loc[i][0]\n",
    "    elif rayon_in_2:\n",
    "        df_rayon.loc[i] = df_aux.loc[i][2]\n",
    "    else:\n",
    "        df_rayon.loc[i] = np.nan\n",
    "        \n",
    "df_rayon.name = \"rayon\"\n",
    "\n",
    "df_ref = pd.concat([df_ref, df_rayon], axis=1)\n",
    "df_ref = df_ref.iloc[:, ~df_ref.columns.duplicated(keep=\"last\")]"
   ]
  },
  {
   "cell_type": "code",
   "execution_count": 131,
   "id": "5097d013",
   "metadata": {},
   "outputs": [
    {
     "data": {
      "text/html": [
       "<div>\n",
       "<style scoped>\n",
       "    .dataframe tbody tr th:only-of-type {\n",
       "        vertical-align: middle;\n",
       "    }\n",
       "\n",
       "    .dataframe tbody tr th {\n",
       "        vertical-align: top;\n",
       "    }\n",
       "\n",
       "    .dataframe thead th {\n",
       "        text-align: right;\n",
       "    }\n",
       "</style>\n",
       "<table border=\"1\" class=\"dataframe\">\n",
       "  <thead>\n",
       "    <tr style=\"text-align: right;\">\n",
       "      <th></th>\n",
       "      <th>cotton</th>\n",
       "      <th>spandex</th>\n",
       "      <th>elastomultiester</th>\n",
       "      <th>polyester</th>\n",
       "      <th>lyocell</th>\n",
       "      <th>rayon</th>\n",
       "    </tr>\n",
       "  </thead>\n",
       "  <tbody>\n",
       "    <tr>\n",
       "      <th>0</th>\n",
       "      <td>Cotton 99%</td>\n",
       "      <td>Spandex 1%</td>\n",
       "      <td>NaN</td>\n",
       "      <td>NaN</td>\n",
       "      <td>NaN</td>\n",
       "      <td>NaN</td>\n",
       "    </tr>\n",
       "    <tr>\n",
       "      <th>1</th>\n",
       "      <td>Cotton 99%</td>\n",
       "      <td>Spandex 1%</td>\n",
       "      <td>NaN</td>\n",
       "      <td>NaN</td>\n",
       "      <td>NaN</td>\n",
       "      <td>NaN</td>\n",
       "    </tr>\n",
       "    <tr>\n",
       "      <th>2</th>\n",
       "      <td>Cotton 99%</td>\n",
       "      <td>Spandex 1%</td>\n",
       "      <td>NaN</td>\n",
       "      <td>NaN</td>\n",
       "      <td>NaN</td>\n",
       "      <td>NaN</td>\n",
       "    </tr>\n",
       "    <tr>\n",
       "      <th>3</th>\n",
       "      <td>Cotton 99%</td>\n",
       "      <td>Spandex 1%</td>\n",
       "      <td>NaN</td>\n",
       "      <td>NaN</td>\n",
       "      <td>NaN</td>\n",
       "      <td>NaN</td>\n",
       "    </tr>\n",
       "    <tr>\n",
       "      <th>4</th>\n",
       "      <td>Cotton 99%</td>\n",
       "      <td>Spandex 1%</td>\n",
       "      <td>NaN</td>\n",
       "      <td>NaN</td>\n",
       "      <td>NaN</td>\n",
       "      <td>NaN</td>\n",
       "    </tr>\n",
       "  </tbody>\n",
       "</table>\n",
       "</div>"
      ],
      "text/plain": [
       "       cotton      spandex elastomultiester polyester lyocell rayon\n",
       "0  Cotton 99%   Spandex 1%              NaN       NaN     NaN   NaN\n",
       "1  Cotton 99%   Spandex 1%              NaN       NaN     NaN   NaN\n",
       "2  Cotton 99%   Spandex 1%              NaN       NaN     NaN   NaN\n",
       "3  Cotton 99%   Spandex 1%              NaN       NaN     NaN   NaN\n",
       "4  Cotton 99%   Spandex 1%              NaN       NaN     NaN   NaN"
      ]
     },
     "execution_count": 131,
     "metadata": {},
     "output_type": "execute_result"
    }
   ],
   "source": [
    "df_ref.head()"
   ]
  },
  {
   "cell_type": "code",
   "execution_count": 132,
   "id": "37da40d4",
   "metadata": {},
   "outputs": [],
   "source": [
    "#joining df_ref and df\n",
    "df = pd.concat([df, df_ref], axis=1)"
   ]
  },
  {
   "cell_type": "code",
   "execution_count": 133,
   "id": "34d80d0d",
   "metadata": {},
   "outputs": [],
   "source": [
    "#drop product_composition column\n",
    "df = df.drop(\"product_composition_shell\", axis=1)"
   ]
  },
  {
   "cell_type": "code",
   "execution_count": 134,
   "id": "822ece84",
   "metadata": {},
   "outputs": [],
   "source": [
    "#get only the number composition\n",
    "columns_composition = df_ref.columns\n",
    "for column in columns_composition:\n",
    "    df[column] = df[column].apply(lambda x: int(re.search('\\d+', x).group(0))/100 if pd.notnull(x) else x)"
   ]
  },
  {
   "cell_type": "markdown",
   "id": "e56b3873",
   "metadata": {},
   "source": [
    "### product_composition_pocket"
   ]
  },
  {
   "cell_type": "code",
   "execution_count": 135,
   "id": "9e8d23e6",
   "metadata": {},
   "outputs": [],
   "source": [
    "#drop product_composition_pocker because what really matter is the shell\n",
    "df = df.drop(\"product_composition_pocket\", axis=1)"
   ]
  },
  {
   "cell_type": "markdown",
   "id": "17cca2f6",
   "metadata": {},
   "source": [
    "### scrapy_datetime"
   ]
  },
  {
   "cell_type": "code",
   "execution_count": 137,
   "id": "af4f6c00",
   "metadata": {},
   "outputs": [],
   "source": [
    "#reordering the columns\n",
    "column_order = ['product_id', 'product_name', 'product_type', 'product_colors',\n",
    "       'product_price', 'cotton', 'spandex',\n",
    "       'elastomultiester', 'polyester', 'lyocell', 'rayon', 'scrapy_datetime']\n",
    "\n",
    "df = df[column_order]"
   ]
  },
  {
   "cell_type": "code",
   "execution_count": 138,
   "id": "71a25cc6",
   "metadata": {},
   "outputs": [],
   "source": [
    "#convert to datetime type\n",
    "df[\"scrapy_datetime\"] = pd.to_datetime(df[\"scrapy_datetime\"], format=\"%Y-%m-%d %H:%M:%S\")"
   ]
  },
  {
   "cell_type": "markdown",
   "id": "ca733a11",
   "metadata": {},
   "source": [
    "# Final DataFrame"
   ]
  },
  {
   "cell_type": "code",
   "execution_count": 139,
   "id": "728d311e",
   "metadata": {},
   "outputs": [
    {
     "data": {
      "text/html": [
       "<div>\n",
       "<style scoped>\n",
       "    .dataframe tbody tr th:only-of-type {\n",
       "        vertical-align: middle;\n",
       "    }\n",
       "\n",
       "    .dataframe tbody tr th {\n",
       "        vertical-align: top;\n",
       "    }\n",
       "\n",
       "    .dataframe thead th {\n",
       "        text-align: right;\n",
       "    }\n",
       "</style>\n",
       "<table border=\"1\" class=\"dataframe\">\n",
       "  <thead>\n",
       "    <tr style=\"text-align: right;\">\n",
       "      <th></th>\n",
       "      <th>product_id</th>\n",
       "      <th>product_name</th>\n",
       "      <th>product_type</th>\n",
       "      <th>product_colors</th>\n",
       "      <th>product_price</th>\n",
       "      <th>cotton</th>\n",
       "      <th>spandex</th>\n",
       "      <th>elastomultiester</th>\n",
       "      <th>polyester</th>\n",
       "      <th>lyocell</th>\n",
       "      <th>rayon</th>\n",
       "      <th>scrapy_datetime</th>\n",
       "    </tr>\n",
       "  </thead>\n",
       "  <tbody>\n",
       "    <tr>\n",
       "      <th>0</th>\n",
       "      <td>1024256001</td>\n",
       "      <td>slim_jeans</td>\n",
       "      <td>men_jeans_slim</td>\n",
       "      <td>black</td>\n",
       "      <td>19.99</td>\n",
       "      <td>0.99</td>\n",
       "      <td>0.01</td>\n",
       "      <td>NaN</td>\n",
       "      <td>NaN</td>\n",
       "      <td>NaN</td>\n",
       "      <td>NaN</td>\n",
       "      <td>2022-12-15 20:56:55</td>\n",
       "    </tr>\n",
       "    <tr>\n",
       "      <th>1</th>\n",
       "      <td>1024256001</td>\n",
       "      <td>slim_jeans</td>\n",
       "      <td>men_jeans_slim</td>\n",
       "      <td>light_denim_blue</td>\n",
       "      <td>19.99</td>\n",
       "      <td>0.99</td>\n",
       "      <td>0.01</td>\n",
       "      <td>NaN</td>\n",
       "      <td>NaN</td>\n",
       "      <td>NaN</td>\n",
       "      <td>NaN</td>\n",
       "      <td>2022-12-15 20:56:55</td>\n",
       "    </tr>\n",
       "    <tr>\n",
       "      <th>2</th>\n",
       "      <td>1024256001</td>\n",
       "      <td>slim_jeans</td>\n",
       "      <td>men_jeans_slim</td>\n",
       "      <td>light_denim_blue</td>\n",
       "      <td>19.99</td>\n",
       "      <td>0.99</td>\n",
       "      <td>0.01</td>\n",
       "      <td>NaN</td>\n",
       "      <td>NaN</td>\n",
       "      <td>NaN</td>\n",
       "      <td>NaN</td>\n",
       "      <td>2022-12-15 20:56:55</td>\n",
       "    </tr>\n",
       "    <tr>\n",
       "      <th>3</th>\n",
       "      <td>1024256001</td>\n",
       "      <td>slim_jeans</td>\n",
       "      <td>men_jeans_slim</td>\n",
       "      <td>denim_blue</td>\n",
       "      <td>19.99</td>\n",
       "      <td>0.99</td>\n",
       "      <td>0.01</td>\n",
       "      <td>NaN</td>\n",
       "      <td>NaN</td>\n",
       "      <td>NaN</td>\n",
       "      <td>NaN</td>\n",
       "      <td>2022-12-15 20:56:55</td>\n",
       "    </tr>\n",
       "    <tr>\n",
       "      <th>4</th>\n",
       "      <td>1024256001</td>\n",
       "      <td>slim_jeans</td>\n",
       "      <td>men_jeans_slim</td>\n",
       "      <td>dark_blue</td>\n",
       "      <td>19.99</td>\n",
       "      <td>0.99</td>\n",
       "      <td>0.01</td>\n",
       "      <td>NaN</td>\n",
       "      <td>NaN</td>\n",
       "      <td>NaN</td>\n",
       "      <td>NaN</td>\n",
       "      <td>2022-12-15 20:56:55</td>\n",
       "    </tr>\n",
       "  </tbody>\n",
       "</table>\n",
       "</div>"
      ],
      "text/plain": [
       "   product_id product_name    product_type    product_colors  product_price  \\\n",
       "0  1024256001   slim_jeans  men_jeans_slim             black          19.99   \n",
       "1  1024256001   slim_jeans  men_jeans_slim  light_denim_blue          19.99   \n",
       "2  1024256001   slim_jeans  men_jeans_slim  light_denim_blue          19.99   \n",
       "3  1024256001   slim_jeans  men_jeans_slim        denim_blue          19.99   \n",
       "4  1024256001   slim_jeans  men_jeans_slim         dark_blue          19.99   \n",
       "\n",
       "   cotton  spandex  elastomultiester  polyester  lyocell  rayon  \\\n",
       "0    0.99     0.01               NaN        NaN      NaN    NaN   \n",
       "1    0.99     0.01               NaN        NaN      NaN    NaN   \n",
       "2    0.99     0.01               NaN        NaN      NaN    NaN   \n",
       "3    0.99     0.01               NaN        NaN      NaN    NaN   \n",
       "4    0.99     0.01               NaN        NaN      NaN    NaN   \n",
       "\n",
       "      scrapy_datetime  \n",
       "0 2022-12-15 20:56:55  \n",
       "1 2022-12-15 20:56:55  \n",
       "2 2022-12-15 20:56:55  \n",
       "3 2022-12-15 20:56:55  \n",
       "4 2022-12-15 20:56:55  "
      ]
     },
     "execution_count": 139,
     "metadata": {},
     "output_type": "execute_result"
    }
   ],
   "source": [
    "df.head()"
   ]
  },
  {
   "cell_type": "code",
   "execution_count": 140,
   "id": "ee73693a",
   "metadata": {},
   "outputs": [
    {
     "data": {
      "text/plain": [
       "(849, 12)"
      ]
     },
     "execution_count": 140,
     "metadata": {},
     "output_type": "execute_result"
    }
   ],
   "source": [
    "df.shape"
   ]
  },
  {
   "cell_type": "code",
   "execution_count": 141,
   "id": "b6714c7d",
   "metadata": {},
   "outputs": [
    {
     "name": "stdout",
     "output_type": "stream",
     "text": [
      "<class 'pandas.core.frame.DataFrame'>\n",
      "RangeIndex: 849 entries, 0 to 848\n",
      "Data columns (total 12 columns):\n",
      " #   Column            Non-Null Count  Dtype         \n",
      "---  ------            --------------  -----         \n",
      " 0   product_id        849 non-null    int64         \n",
      " 1   product_name      849 non-null    object        \n",
      " 2   product_type      849 non-null    object        \n",
      " 3   product_colors    849 non-null    object        \n",
      " 4   product_price     849 non-null    float64       \n",
      " 5   cotton            843 non-null    float64       \n",
      " 6   spandex           666 non-null    float64       \n",
      " 7   elastomultiester  48 non-null     float64       \n",
      " 8   polyester         51 non-null     float64       \n",
      " 9   lyocell           6 non-null      float64       \n",
      " 10  rayon             6 non-null      float64       \n",
      " 11  scrapy_datetime   849 non-null    datetime64[ns]\n",
      "dtypes: datetime64[ns](1), float64(7), int64(1), object(3)\n",
      "memory usage: 79.7+ KB\n"
     ]
    }
   ],
   "source": [
    "df.info()"
   ]
  },
  {
   "cell_type": "code",
   "execution_count": 142,
   "id": "999e76a1",
   "metadata": {
    "scrolled": true
   },
   "outputs": [
    {
     "data": {
      "text/plain": [
       "product_id            0\n",
       "product_name          0\n",
       "product_type          0\n",
       "product_colors        0\n",
       "product_price         0\n",
       "cotton                6\n",
       "spandex             183\n",
       "elastomultiester    801\n",
       "polyester           798\n",
       "lyocell             843\n",
       "rayon               843\n",
       "scrapy_datetime       0\n",
       "dtype: int64"
      ]
     },
     "execution_count": 142,
     "metadata": {},
     "output_type": "execute_result"
    }
   ],
   "source": [
    "df.isna().sum()"
   ]
  },
  {
   "cell_type": "code",
   "execution_count": 143,
   "id": "c7063e50",
   "metadata": {},
   "outputs": [
    {
     "data": {
      "text/html": [
       "<div>\n",
       "<style scoped>\n",
       "    .dataframe tbody tr th:only-of-type {\n",
       "        vertical-align: middle;\n",
       "    }\n",
       "\n",
       "    .dataframe tbody tr th {\n",
       "        vertical-align: top;\n",
       "    }\n",
       "\n",
       "    .dataframe thead th {\n",
       "        text-align: right;\n",
       "    }\n",
       "</style>\n",
       "<table border=\"1\" class=\"dataframe\">\n",
       "  <thead>\n",
       "    <tr style=\"text-align: right;\">\n",
       "      <th></th>\n",
       "      <th>product_id</th>\n",
       "      <th>product_name</th>\n",
       "      <th>product_type</th>\n",
       "      <th>product_colors</th>\n",
       "      <th>product_price</th>\n",
       "      <th>cotton</th>\n",
       "      <th>spandex</th>\n",
       "      <th>elastomultiester</th>\n",
       "      <th>polyester</th>\n",
       "      <th>lyocell</th>\n",
       "      <th>rayon</th>\n",
       "      <th>scrapy_datetime</th>\n",
       "    </tr>\n",
       "  </thead>\n",
       "  <tbody>\n",
       "    <tr>\n",
       "      <th>749</th>\n",
       "      <td>1063141001</td>\n",
       "      <td>loose_jeans</td>\n",
       "      <td>men_jeans_loose</td>\n",
       "      <td>denim_blue</td>\n",
       "      <td>44.99</td>\n",
       "      <td>NaN</td>\n",
       "      <td>NaN</td>\n",
       "      <td>NaN</td>\n",
       "      <td>NaN</td>\n",
       "      <td>0.55</td>\n",
       "      <td>0.15</td>\n",
       "      <td>2022-12-15 20:56:55</td>\n",
       "    </tr>\n",
       "    <tr>\n",
       "      <th>782</th>\n",
       "      <td>1044249001</td>\n",
       "      <td>loose_pull-on_jeans</td>\n",
       "      <td>men_jeans_loose</td>\n",
       "      <td>light_denim_blue</td>\n",
       "      <td>44.99</td>\n",
       "      <td>NaN</td>\n",
       "      <td>NaN</td>\n",
       "      <td>NaN</td>\n",
       "      <td>NaN</td>\n",
       "      <td>0.50</td>\n",
       "      <td>0.50</td>\n",
       "      <td>2022-12-15 20:56:55</td>\n",
       "    </tr>\n",
       "    <tr>\n",
       "      <th>783</th>\n",
       "      <td>1044249001</td>\n",
       "      <td>loose_pull-on_jeans</td>\n",
       "      <td>men_jeans_loose</td>\n",
       "      <td>dark_denim_blue</td>\n",
       "      <td>44.99</td>\n",
       "      <td>NaN</td>\n",
       "      <td>NaN</td>\n",
       "      <td>NaN</td>\n",
       "      <td>NaN</td>\n",
       "      <td>0.50</td>\n",
       "      <td>0.50</td>\n",
       "      <td>2022-12-15 20:56:55</td>\n",
       "    </tr>\n",
       "    <tr>\n",
       "      <th>804</th>\n",
       "      <td>1051644001</td>\n",
       "      <td>loose_jeans</td>\n",
       "      <td>men_jeans_loose</td>\n",
       "      <td>denim_blue</td>\n",
       "      <td>44.99</td>\n",
       "      <td>NaN</td>\n",
       "      <td>NaN</td>\n",
       "      <td>NaN</td>\n",
       "      <td>NaN</td>\n",
       "      <td>0.55</td>\n",
       "      <td>0.15</td>\n",
       "      <td>2022-12-15 20:56:55</td>\n",
       "    </tr>\n",
       "    <tr>\n",
       "      <th>805</th>\n",
       "      <td>1044249002</td>\n",
       "      <td>loose_pull-on_jeans</td>\n",
       "      <td>men_jeans_loose</td>\n",
       "      <td>light_denim_blue</td>\n",
       "      <td>44.99</td>\n",
       "      <td>NaN</td>\n",
       "      <td>NaN</td>\n",
       "      <td>NaN</td>\n",
       "      <td>NaN</td>\n",
       "      <td>0.50</td>\n",
       "      <td>0.50</td>\n",
       "      <td>2022-12-15 20:56:55</td>\n",
       "    </tr>\n",
       "    <tr>\n",
       "      <th>806</th>\n",
       "      <td>1044249002</td>\n",
       "      <td>loose_pull-on_jeans</td>\n",
       "      <td>men_jeans_loose</td>\n",
       "      <td>dark_denim_blue</td>\n",
       "      <td>44.99</td>\n",
       "      <td>NaN</td>\n",
       "      <td>NaN</td>\n",
       "      <td>NaN</td>\n",
       "      <td>NaN</td>\n",
       "      <td>0.50</td>\n",
       "      <td>0.50</td>\n",
       "      <td>2022-12-15 20:56:55</td>\n",
       "    </tr>\n",
       "  </tbody>\n",
       "</table>\n",
       "</div>"
      ],
      "text/plain": [
       "     product_id         product_name     product_type    product_colors  \\\n",
       "749  1063141001          loose_jeans  men_jeans_loose        denim_blue   \n",
       "782  1044249001  loose_pull-on_jeans  men_jeans_loose  light_denim_blue   \n",
       "783  1044249001  loose_pull-on_jeans  men_jeans_loose   dark_denim_blue   \n",
       "804  1051644001          loose_jeans  men_jeans_loose        denim_blue   \n",
       "805  1044249002  loose_pull-on_jeans  men_jeans_loose  light_denim_blue   \n",
       "806  1044249002  loose_pull-on_jeans  men_jeans_loose   dark_denim_blue   \n",
       "\n",
       "     product_price  cotton  spandex  elastomultiester  polyester  lyocell  \\\n",
       "749          44.99     NaN      NaN               NaN        NaN     0.55   \n",
       "782          44.99     NaN      NaN               NaN        NaN     0.50   \n",
       "783          44.99     NaN      NaN               NaN        NaN     0.50   \n",
       "804          44.99     NaN      NaN               NaN        NaN     0.55   \n",
       "805          44.99     NaN      NaN               NaN        NaN     0.50   \n",
       "806          44.99     NaN      NaN               NaN        NaN     0.50   \n",
       "\n",
       "     rayon     scrapy_datetime  \n",
       "749   0.15 2022-12-15 20:56:55  \n",
       "782   0.50 2022-12-15 20:56:55  \n",
       "783   0.50 2022-12-15 20:56:55  \n",
       "804   0.15 2022-12-15 20:56:55  \n",
       "805   0.50 2022-12-15 20:56:55  \n",
       "806   0.50 2022-12-15 20:56:55  "
      ]
     },
     "execution_count": 143,
     "metadata": {},
     "output_type": "execute_result"
    }
   ],
   "source": [
    "#verifying columns that has lyocell or rayon and cleaning them\n",
    "df[df.rayon.notnull()]"
   ]
  },
  {
   "cell_type": "code",
   "execution_count": 144,
   "id": "aa5f5a24",
   "metadata": {},
   "outputs": [],
   "source": [
    "df.loc[749, \"cotton\"] = 0.3\n",
    "df.loc[804, \"cotton\"] = 0.3"
   ]
  },
  {
   "cell_type": "code",
   "execution_count": 145,
   "id": "a47ce909",
   "metadata": {},
   "outputs": [],
   "source": [
    "#dropping duplicates\n",
    "df = df.drop_duplicates()"
   ]
  },
  {
   "cell_type": "code",
   "execution_count": 146,
   "id": "0ea0f6e5",
   "metadata": {},
   "outputs": [
    {
     "data": {
      "text/plain": [
       "(624, 12)"
      ]
     },
     "execution_count": 146,
     "metadata": {},
     "output_type": "execute_result"
    }
   ],
   "source": [
    "df.shape"
   ]
  },
  {
   "cell_type": "code",
   "execution_count": 147,
   "id": "62979406",
   "metadata": {},
   "outputs": [],
   "source": [
    "#reseting index\n",
    "df = df.reset_index(drop=True)"
   ]
  },
  {
   "cell_type": "code",
   "execution_count": 151,
   "id": "3ef0c5ba",
   "metadata": {},
   "outputs": [],
   "source": [
    "#fillna with 0, meaning that it doesn't compose the product\n",
    "df = df.fillna(0)"
   ]
  },
  {
   "cell_type": "code",
   "execution_count": 152,
   "id": "085feb88",
   "metadata": {},
   "outputs": [
    {
     "data": {
      "text/html": [
       "<div>\n",
       "<style scoped>\n",
       "    .dataframe tbody tr th:only-of-type {\n",
       "        vertical-align: middle;\n",
       "    }\n",
       "\n",
       "    .dataframe tbody tr th {\n",
       "        vertical-align: top;\n",
       "    }\n",
       "\n",
       "    .dataframe thead th {\n",
       "        text-align: right;\n",
       "    }\n",
       "</style>\n",
       "<table border=\"1\" class=\"dataframe\">\n",
       "  <thead>\n",
       "    <tr style=\"text-align: right;\">\n",
       "      <th></th>\n",
       "      <th>product_id</th>\n",
       "      <th>product_name</th>\n",
       "      <th>product_type</th>\n",
       "      <th>product_colors</th>\n",
       "      <th>product_price</th>\n",
       "      <th>cotton</th>\n",
       "      <th>spandex</th>\n",
       "      <th>elastomultiester</th>\n",
       "      <th>polyester</th>\n",
       "      <th>lyocell</th>\n",
       "      <th>rayon</th>\n",
       "      <th>scrapy_datetime</th>\n",
       "    </tr>\n",
       "  </thead>\n",
       "  <tbody>\n",
       "    <tr>\n",
       "      <th>0</th>\n",
       "      <td>1024256001</td>\n",
       "      <td>slim_jeans</td>\n",
       "      <td>men_jeans_slim</td>\n",
       "      <td>black</td>\n",
       "      <td>19.99</td>\n",
       "      <td>0.99</td>\n",
       "      <td>0.01</td>\n",
       "      <td>0.0</td>\n",
       "      <td>0.0</td>\n",
       "      <td>0.0</td>\n",
       "      <td>0.0</td>\n",
       "      <td>2022-12-15 20:56:55</td>\n",
       "    </tr>\n",
       "    <tr>\n",
       "      <th>1</th>\n",
       "      <td>1024256001</td>\n",
       "      <td>slim_jeans</td>\n",
       "      <td>men_jeans_slim</td>\n",
       "      <td>light_denim_blue</td>\n",
       "      <td>19.99</td>\n",
       "      <td>0.99</td>\n",
       "      <td>0.01</td>\n",
       "      <td>0.0</td>\n",
       "      <td>0.0</td>\n",
       "      <td>0.0</td>\n",
       "      <td>0.0</td>\n",
       "      <td>2022-12-15 20:56:55</td>\n",
       "    </tr>\n",
       "    <tr>\n",
       "      <th>2</th>\n",
       "      <td>1024256001</td>\n",
       "      <td>slim_jeans</td>\n",
       "      <td>men_jeans_slim</td>\n",
       "      <td>denim_blue</td>\n",
       "      <td>19.99</td>\n",
       "      <td>0.99</td>\n",
       "      <td>0.01</td>\n",
       "      <td>0.0</td>\n",
       "      <td>0.0</td>\n",
       "      <td>0.0</td>\n",
       "      <td>0.0</td>\n",
       "      <td>2022-12-15 20:56:55</td>\n",
       "    </tr>\n",
       "    <tr>\n",
       "      <th>3</th>\n",
       "      <td>1024256001</td>\n",
       "      <td>slim_jeans</td>\n",
       "      <td>men_jeans_slim</td>\n",
       "      <td>dark_blue</td>\n",
       "      <td>19.99</td>\n",
       "      <td>0.99</td>\n",
       "      <td>0.01</td>\n",
       "      <td>0.0</td>\n",
       "      <td>0.0</td>\n",
       "      <td>0.0</td>\n",
       "      <td>0.0</td>\n",
       "      <td>2022-12-15 20:56:55</td>\n",
       "    </tr>\n",
       "    <tr>\n",
       "      <th>4</th>\n",
       "      <td>1024256001</td>\n",
       "      <td>slim_jeans</td>\n",
       "      <td>men_jeans_slim</td>\n",
       "      <td>dark_denim_blue</td>\n",
       "      <td>19.99</td>\n",
       "      <td>0.99</td>\n",
       "      <td>0.01</td>\n",
       "      <td>0.0</td>\n",
       "      <td>0.0</td>\n",
       "      <td>0.0</td>\n",
       "      <td>0.0</td>\n",
       "      <td>2022-12-15 20:56:55</td>\n",
       "    </tr>\n",
       "  </tbody>\n",
       "</table>\n",
       "</div>"
      ],
      "text/plain": [
       "   product_id product_name    product_type    product_colors  product_price  \\\n",
       "0  1024256001   slim_jeans  men_jeans_slim             black          19.99   \n",
       "1  1024256001   slim_jeans  men_jeans_slim  light_denim_blue          19.99   \n",
       "2  1024256001   slim_jeans  men_jeans_slim        denim_blue          19.99   \n",
       "3  1024256001   slim_jeans  men_jeans_slim         dark_blue          19.99   \n",
       "4  1024256001   slim_jeans  men_jeans_slim   dark_denim_blue          19.99   \n",
       "\n",
       "   cotton  spandex  elastomultiester  polyester  lyocell  rayon  \\\n",
       "0    0.99     0.01               0.0        0.0      0.0    0.0   \n",
       "1    0.99     0.01               0.0        0.0      0.0    0.0   \n",
       "2    0.99     0.01               0.0        0.0      0.0    0.0   \n",
       "3    0.99     0.01               0.0        0.0      0.0    0.0   \n",
       "4    0.99     0.01               0.0        0.0      0.0    0.0   \n",
       "\n",
       "      scrapy_datetime  \n",
       "0 2022-12-15 20:56:55  \n",
       "1 2022-12-15 20:56:55  \n",
       "2 2022-12-15 20:56:55  \n",
       "3 2022-12-15 20:56:55  \n",
       "4 2022-12-15 20:56:55  "
      ]
     },
     "execution_count": 152,
     "metadata": {},
     "output_type": "execute_result"
    }
   ],
   "source": [
    "df.head()"
   ]
  },
  {
   "cell_type": "code",
   "execution_count": 154,
   "id": "83d31031",
   "metadata": {},
   "outputs": [],
   "source": [
    "df.to_csv(\"generated_data/cleaned_data.csv\")"
   ]
  }
 ],
 "metadata": {
  "kernelspec": {
   "display_name": "Python 3 (ipykernel)",
   "language": "python",
   "name": "python3"
  },
  "language_info": {
   "codemirror_mode": {
    "name": "ipython",
    "version": 3
   },
   "file_extension": ".py",
   "mimetype": "text/x-python",
   "name": "python",
   "nbconvert_exporter": "python",
   "pygments_lexer": "ipython3",
   "version": "3.9.12"
  }
 },
 "nbformat": 4,
 "nbformat_minor": 5
}

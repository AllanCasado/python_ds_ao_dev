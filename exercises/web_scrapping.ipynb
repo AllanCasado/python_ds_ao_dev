{
 "cells": [
  {
   "cell_type": "code",
   "execution_count": 1,
   "id": "9c9e3554",
   "metadata": {},
   "outputs": [],
   "source": [
    "from bs4 import BeautifulSoup\n",
    "import requests\n",
    "from datetime import datetime\n",
    "import pandas as pd\n",
    "import numpy as np"
   ]
  },
  {
   "cell_type": "markdown",
   "id": "5a0d03a3",
   "metadata": {},
   "source": [
    "# Atributos que serão extraídos"
   ]
  },
  {
   "cell_type": "markdown",
   "id": "ec8e2d38",
   "metadata": {},
   "source": [
    "1. id\n",
    "2. nome do produto\n",
    "3. tipo do produto\n",
    "4. cor do produto \n",
    "5. composição do produto\n",
    "6. preço"
   ]
  },
  {
   "cell_type": "markdown",
   "id": "480d6aca",
   "metadata": {},
   "source": [
    "# Web Scrapping"
   ]
  },
  {
   "cell_type": "code",
   "execution_count": 2,
   "id": "36438596",
   "metadata": {},
   "outputs": [],
   "source": [
    "#url em que a requisição será feita\n",
    "url = 'https://www2.hm.com/en_us/men/products/jeans.html'\n",
    "\n",
    "#fazendo a requisição\n",
    "headers = {'User-Agent': 'Mozilla/5.0 (Windows NT 10.0; Win64; x64) AppleWebKit/537.36 (KHTML, like Gecko) Chrome/108.0.0.0 Safari/537.36'}\n",
    "page = requests.get(url, headers=headers)\n",
    "\n",
    "#pegando o html da página\n",
    "html = page.text"
   ]
  },
  {
   "cell_type": "code",
   "execution_count": 3,
   "id": "6bd7eb85",
   "metadata": {},
   "outputs": [],
   "source": [
    "#criando um objeto a partir do html\n",
    "soup = BeautifulSoup(html, 'html.parser')"
   ]
  },
  {
   "cell_type": "code",
   "execution_count": 4,
   "id": "af3df431",
   "metadata": {},
   "outputs": [],
   "source": [
    "#fazendo a requisição\n",
    "page = requests.get(url, headers)"
   ]
  },
  {
   "cell_type": "code",
   "execution_count": 5,
   "id": "a80753fd",
   "metadata": {},
   "outputs": [],
   "source": [
    "#pegando o html da página\n",
    "html = page.text"
   ]
  },
  {
   "cell_type": "markdown",
   "id": "bee4d5c7",
   "metadata": {},
   "source": [
    "### Coletando id, nome, tipo e preço"
   ]
  },
  {
   "cell_type": "code",
   "execution_count": 6,
   "id": "dc892750",
   "metadata": {},
   "outputs": [],
   "source": [
    "#buscando pela lista que contém todos produtos\n",
    "all_products = soup.find('ul', class_='products-listing small')\n",
    "\n",
    "#fazendo uma lista que tem o html de cada produto\n",
    "products_list = all_products.find_all('article', class_='hm-product-item')\n",
    "\n",
    "#lista para armazenar tipo e preço de cada produto\n",
    "products_id, products_type, products_price, products_name = [],[],[],[]\n",
    "\n",
    "#iterando em todos os produtos e pegando preço e tipo\n",
    "for product in products_list:\n",
    "    product_details = product.find('div', class_='item-details')\n",
    "    products_id.append(product.get('data-articlecode'))\n",
    "    products_type.append(product.get('data-category'))\n",
    "    products_price.append(product_details.find('span', class_='price regular').get_text())\n",
    "    products_name.append(product_details.find('a', class_='link').get_text())\n",
    "\n",
    "#criando um dataframe com os dados coletando até agora\n",
    "\n",
    "df = pd.DataFrame([products_id, products_name, products_type, products_price]).T\n",
    "df.columns = ['product_id', 'product_name', 'product_type', 'product_price']\n",
    "df['scrapy_datetime'] = datetime.now().strftime('%Y-%m-%d %H:%M:%S')"
   ]
  },
  {
   "cell_type": "code",
   "execution_count": 7,
   "id": "e7daacaf",
   "metadata": {},
   "outputs": [
    {
     "data": {
      "text/html": [
       "<div>\n",
       "<style scoped>\n",
       "    .dataframe tbody tr th:only-of-type {\n",
       "        vertical-align: middle;\n",
       "    }\n",
       "\n",
       "    .dataframe tbody tr th {\n",
       "        vertical-align: top;\n",
       "    }\n",
       "\n",
       "    .dataframe thead th {\n",
       "        text-align: right;\n",
       "    }\n",
       "</style>\n",
       "<table border=\"1\" class=\"dataframe\">\n",
       "  <thead>\n",
       "    <tr style=\"text-align: right;\">\n",
       "      <th></th>\n",
       "      <th>product_id</th>\n",
       "      <th>product_name</th>\n",
       "      <th>product_type</th>\n",
       "      <th>product_price</th>\n",
       "      <th>scrapy_datetime</th>\n",
       "    </tr>\n",
       "  </thead>\n",
       "  <tbody>\n",
       "    <tr>\n",
       "      <th>0</th>\n",
       "      <td>1024256001</td>\n",
       "      <td>Slim Jeans</td>\n",
       "      <td>men_jeans_slim</td>\n",
       "      <td>$ 19.99</td>\n",
       "      <td>2022-12-15 20:56:52</td>\n",
       "    </tr>\n",
       "    <tr>\n",
       "      <th>1</th>\n",
       "      <td>0690449067</td>\n",
       "      <td>Skinny Jeans</td>\n",
       "      <td>men_jeans_ripped</td>\n",
       "      <td>$ 39.99</td>\n",
       "      <td>2022-12-15 20:56:52</td>\n",
       "    </tr>\n",
       "    <tr>\n",
       "      <th>2</th>\n",
       "      <td>0985159001</td>\n",
       "      <td>Skinny Jeans</td>\n",
       "      <td>men_jeans_skinny</td>\n",
       "      <td>$ 24.99</td>\n",
       "      <td>2022-12-15 20:56:52</td>\n",
       "    </tr>\n",
       "    <tr>\n",
       "      <th>3</th>\n",
       "      <td>1008549001</td>\n",
       "      <td>Regular Jeans</td>\n",
       "      <td>men_jeans_regular</td>\n",
       "      <td>$ 24.99</td>\n",
       "      <td>2022-12-15 20:56:52</td>\n",
       "    </tr>\n",
       "    <tr>\n",
       "      <th>4</th>\n",
       "      <td>1008549006</td>\n",
       "      <td>Regular Jeans</td>\n",
       "      <td>men_jeans_regular</td>\n",
       "      <td>$ 24.99</td>\n",
       "      <td>2022-12-15 20:56:52</td>\n",
       "    </tr>\n",
       "  </tbody>\n",
       "</table>\n",
       "</div>"
      ],
      "text/plain": [
       "   product_id   product_name       product_type product_price  \\\n",
       "0  1024256001     Slim Jeans     men_jeans_slim       $ 19.99   \n",
       "1  0690449067   Skinny Jeans   men_jeans_ripped       $ 39.99   \n",
       "2  0985159001   Skinny Jeans   men_jeans_skinny       $ 24.99   \n",
       "3  1008549001  Regular Jeans  men_jeans_regular       $ 24.99   \n",
       "4  1008549006  Regular Jeans  men_jeans_regular       $ 24.99   \n",
       "\n",
       "       scrapy_datetime  \n",
       "0  2022-12-15 20:56:52  \n",
       "1  2022-12-15 20:56:52  \n",
       "2  2022-12-15 20:56:52  \n",
       "3  2022-12-15 20:56:52  \n",
       "4  2022-12-15 20:56:52  "
      ]
     },
     "execution_count": 7,
     "metadata": {},
     "output_type": "execute_result"
    }
   ],
   "source": [
    "df.head()"
   ]
  },
  {
   "cell_type": "markdown",
   "id": "2a201a35",
   "metadata": {},
   "source": [
    "### Coletando os atributos id, nome, tipo e preço de todos os produtos"
   ]
  },
  {
   "cell_type": "markdown",
   "id": "ee867bab",
   "metadata": {},
   "source": [
    "No exemplo acima, coletamos apenas o 36 primeiros items da vitrine. Aqueles que aparecem na primeira página. Nessa segunda versão, estamos passando por todas as páginas daquele produto e coletando todos os produtos."
   ]
  },
  {
   "cell_type": "code",
   "execution_count": 8,
   "id": "aa3c8a3c",
   "metadata": {},
   "outputs": [],
   "source": [
    "#coletando quantos items existem ao total daquela categoria específica\n",
    "total_items = int(soup.find('h2', class_='load-more-heading').get('data-total'))\n",
    "\n",
    "#considerando que cada página mostra 36 produtos, vemos quantas paginas precisam\n",
    "page_number = int(round(total_items/36))\n",
    "\n",
    "#url para pegar todos os produtos\n",
    "url2 = url + \"?page-size=\" + str(page_number*36)\n",
    "\n",
    "#fazendo a requisição\n",
    "headers = {'User-Agent': 'Mozilla/5.0 (Windows NT 10.0; Win64; x64) AppleWebKit/537.36 (KHTML, like Gecko) Chrome/108.0.0.0 Safari/537.36'}\n",
    "page = requests.get(url2, headers=headers)\n",
    "\n",
    "#pegando o html da página\n",
    "html = page.text\n",
    "\n",
    "#criando um objeto do BeautifulSoup a partir do html\n",
    "soup_pagination = BeautifulSoup(html)\n",
    "\n",
    "#buscando pela lista que contém todos produtos\n",
    "all_products = soup_pagination.find('ul', class_='products-listing small')\n",
    "\n",
    "#fazendo uma lista que tem o html de cada produto\n",
    "products_list = all_products.find_all('article', class_='hm-product-item')\n",
    "\n",
    "#lista para armazenar tipo e preço de cada produto\n",
    "products_id, products_type, products_price, products_name = [],[],[],[]\n",
    "\n",
    "#iterando em todos os produtos e pegando preço e tipo\n",
    "for product in products_list:\n",
    "    product_details = product.find('div', class_='item-details')\n",
    "    products_id.append(product.get('data-articlecode'))\n",
    "    products_type.append(product.get('data-category'))\n",
    "    products_price.append(product_details.find('span', class_='price regular').get_text())\n",
    "    products_name.append(product_details.find('a', class_='link').get_text())\n",
    "\n",
    "#criando um dataframe com os dados coletando até agora\n",
    "df = pd.DataFrame([products_id, products_name, products_type, products_price]).T\n",
    "df.columns = ['product_id', 'product_name', 'product_type', 'product_price']\n",
    "df['scrapy_datetime'] = datetime.now().strftime('%Y-%m-%d %H:%M:%S')"
   ]
  },
  {
   "cell_type": "code",
   "execution_count": 9,
   "id": "cd8b99a8",
   "metadata": {},
   "outputs": [
    {
     "data": {
      "text/plain": [
       "(91, 5)"
      ]
     },
     "execution_count": 9,
     "metadata": {},
     "output_type": "execute_result"
    }
   ],
   "source": [
    "df.shape"
   ]
  },
  {
   "cell_type": "code",
   "execution_count": 10,
   "id": "40c090cd",
   "metadata": {},
   "outputs": [
    {
     "data": {
      "text/html": [
       "<div>\n",
       "<style scoped>\n",
       "    .dataframe tbody tr th:only-of-type {\n",
       "        vertical-align: middle;\n",
       "    }\n",
       "\n",
       "    .dataframe tbody tr th {\n",
       "        vertical-align: top;\n",
       "    }\n",
       "\n",
       "    .dataframe thead th {\n",
       "        text-align: right;\n",
       "    }\n",
       "</style>\n",
       "<table border=\"1\" class=\"dataframe\">\n",
       "  <thead>\n",
       "    <tr style=\"text-align: right;\">\n",
       "      <th></th>\n",
       "      <th>product_id</th>\n",
       "      <th>product_name</th>\n",
       "      <th>product_type</th>\n",
       "      <th>product_price</th>\n",
       "      <th>scrapy_datetime</th>\n",
       "    </tr>\n",
       "  </thead>\n",
       "  <tbody>\n",
       "    <tr>\n",
       "      <th>0</th>\n",
       "      <td>1024256001</td>\n",
       "      <td>Slim Jeans</td>\n",
       "      <td>men_jeans_slim</td>\n",
       "      <td>$ 19.99</td>\n",
       "      <td>2022-12-15 20:56:55</td>\n",
       "    </tr>\n",
       "    <tr>\n",
       "      <th>1</th>\n",
       "      <td>0985159001</td>\n",
       "      <td>Skinny Jeans</td>\n",
       "      <td>men_jeans_skinny</td>\n",
       "      <td>$ 24.99</td>\n",
       "      <td>2022-12-15 20:56:55</td>\n",
       "    </tr>\n",
       "    <tr>\n",
       "      <th>2</th>\n",
       "      <td>0690449067</td>\n",
       "      <td>Skinny Jeans</td>\n",
       "      <td>men_jeans_ripped</td>\n",
       "      <td>$ 39.99</td>\n",
       "      <td>2022-12-15 20:56:55</td>\n",
       "    </tr>\n",
       "    <tr>\n",
       "      <th>3</th>\n",
       "      <td>0690449036</td>\n",
       "      <td>Skinny Jeans</td>\n",
       "      <td>men_jeans_ripped</td>\n",
       "      <td>$ 39.99</td>\n",
       "      <td>2022-12-15 20:56:55</td>\n",
       "    </tr>\n",
       "    <tr>\n",
       "      <th>4</th>\n",
       "      <td>0690449022</td>\n",
       "      <td>Skinny Jeans</td>\n",
       "      <td>men_jeans_ripped</td>\n",
       "      <td>$ 39.99</td>\n",
       "      <td>2022-12-15 20:56:55</td>\n",
       "    </tr>\n",
       "  </tbody>\n",
       "</table>\n",
       "</div>"
      ],
      "text/plain": [
       "   product_id  product_name      product_type product_price  \\\n",
       "0  1024256001    Slim Jeans    men_jeans_slim       $ 19.99   \n",
       "1  0985159001  Skinny Jeans  men_jeans_skinny       $ 24.99   \n",
       "2  0690449067  Skinny Jeans  men_jeans_ripped       $ 39.99   \n",
       "3  0690449036  Skinny Jeans  men_jeans_ripped       $ 39.99   \n",
       "4  0690449022  Skinny Jeans  men_jeans_ripped       $ 39.99   \n",
       "\n",
       "       scrapy_datetime  \n",
       "0  2022-12-15 20:56:55  \n",
       "1  2022-12-15 20:56:55  \n",
       "2  2022-12-15 20:56:55  \n",
       "3  2022-12-15 20:56:55  \n",
       "4  2022-12-15 20:56:55  "
      ]
     },
     "execution_count": 10,
     "metadata": {},
     "output_type": "execute_result"
    }
   ],
   "source": [
    "df.head()"
   ]
  },
  {
   "cell_type": "markdown",
   "id": "8c6f9beb",
   "metadata": {},
   "source": [
    "### Coletando as cores e a composição de cada produto"
   ]
  },
  {
   "cell_type": "code",
   "execution_count": 11,
   "id": "e12465f0",
   "metadata": {},
   "outputs": [],
   "source": [
    "def get_colors_and_composition(id):\n",
    "    #url em que a requisição será feita\n",
    "    url_model = f'https://www2.hm.com/en_us/productpage.{id}.html'\n",
    "\n",
    "    #fazendo a requisição\n",
    "    headers = {'User-Agent': 'Mozilla/5.0 (Windows NT 10.0; Win64; x64) AppleWebKit/537.36 (KHTML, like Gecko) Chrome/108.0.0.0 Safari/537.36'}\n",
    "    page = requests.get(url_model, headers=headers)\n",
    "\n",
    "    #pegando o html da página\n",
    "    html = page.text\n",
    "\n",
    "    #criando um objeto do BeautifulSoup a partir do html\n",
    "    soup_product = BeautifulSoup(html)\n",
    "    \n",
    "    # ====================colors===========================\n",
    "    \n",
    "    #pegando todos os tipos de cores\n",
    "    product_colors = soup_product.find('ul', class_='inputlist clearfix')\n",
    "\n",
    "    #cores disponíveis daquele produto\n",
    "    colors = [product_item.find('a').get('data-color') for product_item in product_colors.find_all('li', class_='list-item')]\n",
    "    \n",
    "    # ====================composition===========================\n",
    "    attributes = list(filter(None, soup_product.find('div', class_='content pdp-text pdp-content').get_text().split('\\n')))\n",
    "\n",
    "    for i in range(len(attributes)):\n",
    "        if attributes[i] == 'Composition':\n",
    "                composition_shell = attributes[i+1]\n",
    "                composition_pocket = attributes[i+2]\n",
    "    \n",
    "    \n",
    "    return \"//\".join(colors), composition_shell, composition_pocket"
   ]
  },
  {
   "cell_type": "code",
   "execution_count": 12,
   "id": "061d0d8f",
   "metadata": {},
   "outputs": [],
   "source": [
    "#lista para armazenar as cores \n",
    "products_colors = []\n",
    "\n",
    "#lista para armazenar a composição\n",
    "products_composition_shell = []\n",
    "products_composition_pocket = []\n",
    "\n",
    "#para cada produto pegar as cores e adicionar na lista\n",
    "for id in df['product_id']:\n",
    "    colors, composition_shell, composition_pocket = get_colors_and_composition(id)\n",
    "    products_colors.append(colors)\n",
    "    products_composition_shell.append(composition_shell)\n",
    "    products_composition_pocket.append(composition_pocket)    \n",
    "\n",
    "#adiciona as colunas de cores e composição do produto no dataframe\n",
    "df[\"product_colors\"] = products_colors\n",
    "df[\"product_composition_shell\"] = products_composition_shell\n",
    "df[\"product_composition_pocket\"] = products_composition_pocket\n",
    "\n",
    "#reordenando as colunas\n",
    "df = df[[\"product_id\", \"product_name\", \"product_type\", \"product_colors\", \"product_price\", \"product_composition_shell\", \"product_composition_pocket\", \"scrapy_datetime\"]]\n",
    "\n",
    "#se a string não começar com \"Poc\" significa que esse valor não estava presente no site\n",
    "df[\"product_composition_pocket\"] = df[\"product_composition_pocket\"].apply(lambda x: x if x[:3] == \"Poc\" else np.nan)\n",
    "\n",
    "#limpando as colunas de composição do produto\n",
    "df[\"product_composition_shell\"] = df['product_composition_shell'].str.replace('Shell: ', '')\n",
    "df[\"product_composition_pocket\"] = df['product_composition_pocket'].str.replace('Pocket lining: ', '')\n",
    "df[\"product_composition_pocket\"] = df['product_composition_pocket'].str.replace('Pocket: ', '')"
   ]
  },
  {
   "cell_type": "code",
   "execution_count": 13,
   "id": "e1af910e",
   "metadata": {},
   "outputs": [
    {
     "data": {
      "text/html": [
       "<div>\n",
       "<style scoped>\n",
       "    .dataframe tbody tr th:only-of-type {\n",
       "        vertical-align: middle;\n",
       "    }\n",
       "\n",
       "    .dataframe tbody tr th {\n",
       "        vertical-align: top;\n",
       "    }\n",
       "\n",
       "    .dataframe thead th {\n",
       "        text-align: right;\n",
       "    }\n",
       "</style>\n",
       "<table border=\"1\" class=\"dataframe\">\n",
       "  <thead>\n",
       "    <tr style=\"text-align: right;\">\n",
       "      <th></th>\n",
       "      <th>product_id</th>\n",
       "      <th>product_name</th>\n",
       "      <th>product_type</th>\n",
       "      <th>product_colors</th>\n",
       "      <th>product_price</th>\n",
       "      <th>product_composition_shell</th>\n",
       "      <th>product_composition_pocket</th>\n",
       "      <th>scrapy_datetime</th>\n",
       "    </tr>\n",
       "  </thead>\n",
       "  <tbody>\n",
       "    <tr>\n",
       "      <th>0</th>\n",
       "      <td>1024256001</td>\n",
       "      <td>Slim Jeans</td>\n",
       "      <td>men_jeans_slim</td>\n",
       "      <td>Black//Light denim blue//Light denim blue//Den...</td>\n",
       "      <td>$ 19.99</td>\n",
       "      <td>Cotton 99%, Spandex 1%</td>\n",
       "      <td>Polyester 65%, Cotton 35%</td>\n",
       "      <td>2022-12-15 20:56:55</td>\n",
       "    </tr>\n",
       "    <tr>\n",
       "      <th>1</th>\n",
       "      <td>0985159001</td>\n",
       "      <td>Skinny Jeans</td>\n",
       "      <td>men_jeans_skinny</td>\n",
       "      <td>Black//Denim blue//Dark gray//Light denim blue...</td>\n",
       "      <td>$ 24.99</td>\n",
       "      <td>Cotton 99%, Spandex 1%</td>\n",
       "      <td>Cotton 100%</td>\n",
       "      <td>2022-12-15 20:56:55</td>\n",
       "    </tr>\n",
       "    <tr>\n",
       "      <th>2</th>\n",
       "      <td>0690449067</td>\n",
       "      <td>Skinny Jeans</td>\n",
       "      <td>men_jeans_ripped</td>\n",
       "      <td>Light denim blue/trashed//Denim blue//Black/wa...</td>\n",
       "      <td>$ 39.99</td>\n",
       "      <td>Cotton 98%, Spandex 2%</td>\n",
       "      <td>Polyester 65%, Cotton 35%</td>\n",
       "      <td>2022-12-15 20:56:55</td>\n",
       "    </tr>\n",
       "    <tr>\n",
       "      <th>3</th>\n",
       "      <td>0690449036</td>\n",
       "      <td>Skinny Jeans</td>\n",
       "      <td>men_jeans_ripped</td>\n",
       "      <td>Light denim blue/trashed//Denim blue//Black/wa...</td>\n",
       "      <td>$ 39.99</td>\n",
       "      <td>Cotton 98%, Spandex 2%</td>\n",
       "      <td>NaN</td>\n",
       "      <td>2022-12-15 20:56:55</td>\n",
       "    </tr>\n",
       "    <tr>\n",
       "      <th>4</th>\n",
       "      <td>0690449022</td>\n",
       "      <td>Skinny Jeans</td>\n",
       "      <td>men_jeans_ripped</td>\n",
       "      <td>Light denim blue/trashed//Denim blue//Black/wa...</td>\n",
       "      <td>$ 39.99</td>\n",
       "      <td>Cotton 98%, Spandex 2%</td>\n",
       "      <td>NaN</td>\n",
       "      <td>2022-12-15 20:56:55</td>\n",
       "    </tr>\n",
       "  </tbody>\n",
       "</table>\n",
       "</div>"
      ],
      "text/plain": [
       "   product_id  product_name      product_type  \\\n",
       "0  1024256001    Slim Jeans    men_jeans_slim   \n",
       "1  0985159001  Skinny Jeans  men_jeans_skinny   \n",
       "2  0690449067  Skinny Jeans  men_jeans_ripped   \n",
       "3  0690449036  Skinny Jeans  men_jeans_ripped   \n",
       "4  0690449022  Skinny Jeans  men_jeans_ripped   \n",
       "\n",
       "                                      product_colors product_price  \\\n",
       "0  Black//Light denim blue//Light denim blue//Den...       $ 19.99   \n",
       "1  Black//Denim blue//Dark gray//Light denim blue...       $ 24.99   \n",
       "2  Light denim blue/trashed//Denim blue//Black/wa...       $ 39.99   \n",
       "3  Light denim blue/trashed//Denim blue//Black/wa...       $ 39.99   \n",
       "4  Light denim blue/trashed//Denim blue//Black/wa...       $ 39.99   \n",
       "\n",
       "  product_composition_shell product_composition_pocket      scrapy_datetime  \n",
       "0    Cotton 99%, Spandex 1%  Polyester 65%, Cotton 35%  2022-12-15 20:56:55  \n",
       "1    Cotton 99%, Spandex 1%                Cotton 100%  2022-12-15 20:56:55  \n",
       "2    Cotton 98%, Spandex 2%  Polyester 65%, Cotton 35%  2022-12-15 20:56:55  \n",
       "3    Cotton 98%, Spandex 2%                        NaN  2022-12-15 20:56:55  \n",
       "4    Cotton 98%, Spandex 2%                        NaN  2022-12-15 20:56:55  "
      ]
     },
     "execution_count": 13,
     "metadata": {},
     "output_type": "execute_result"
    }
   ],
   "source": [
    "df.head()"
   ]
  },
  {
   "cell_type": "markdown",
   "id": "39cb3c18",
   "metadata": {},
   "source": [
    "### Uma linha por produto-cor"
   ]
  },
  {
   "cell_type": "code",
   "execution_count": 14,
   "id": "6210e2a8",
   "metadata": {},
   "outputs": [],
   "source": [
    "#dataframe final\n",
    "df_raw = pd.DataFrame()"
   ]
  },
  {
   "cell_type": "code",
   "execution_count": 15,
   "id": "1a96e60b",
   "metadata": {},
   "outputs": [],
   "source": [
    "#para cada produto do df, extrai as cores e cria uma linha pra cada cor\n",
    "for i in range(len(df)):\n",
    "    #pega a linha\n",
    "    df_row = pd.DataFrame(df.loc[i]).T\n",
    "    #pega as cores daquele produto\n",
    "    unique_colors = df_row[\"product_colors\"].values[0].split(\"//\")\n",
    "    \n",
    "    #pra cada cor, cria uma nova linha\n",
    "    for i in range(len(unique_colors)):\n",
    "        df_row[\"product_colors\"] = unique_colors[i]\n",
    "        df_raw = pd.concat([df_raw, df_row])"
   ]
  },
  {
   "cell_type": "code",
   "execution_count": 16,
   "id": "f23b75e6",
   "metadata": {},
   "outputs": [],
   "source": [
    "#exportando o dataframe gerado para um arquivo csv\n",
    "df_raw.to_csv(\"./generated_data/df_raw_scrapping.csv\")"
   ]
  },
  {
   "cell_type": "code",
   "execution_count": null,
   "id": "bb829f1c",
   "metadata": {},
   "outputs": [],
   "source": []
  },
  {
   "cell_type": "code",
   "execution_count": null,
   "id": "10d9ea05",
   "metadata": {},
   "outputs": [],
   "source": []
  },
  {
   "cell_type": "code",
   "execution_count": null,
   "id": "ff9ec892",
   "metadata": {},
   "outputs": [],
   "source": []
  },
  {
   "cell_type": "code",
   "execution_count": null,
   "id": "8fc0b15a",
   "metadata": {},
   "outputs": [],
   "source": []
  },
  {
   "cell_type": "code",
   "execution_count": null,
   "id": "f103f48d",
   "metadata": {},
   "outputs": [],
   "source": []
  },
  {
   "cell_type": "code",
   "execution_count": null,
   "id": "39c94e1a",
   "metadata": {},
   "outputs": [],
   "source": []
  },
  {
   "cell_type": "code",
   "execution_count": null,
   "id": "ac1f508f",
   "metadata": {},
   "outputs": [],
   "source": []
  },
  {
   "cell_type": "code",
   "execution_count": null,
   "id": "4763346b",
   "metadata": {},
   "outputs": [],
   "source": []
  },
  {
   "cell_type": "code",
   "execution_count": null,
   "id": "dcb187d3",
   "metadata": {},
   "outputs": [],
   "source": []
  },
  {
   "cell_type": "code",
   "execution_count": null,
   "id": "0d11391b",
   "metadata": {},
   "outputs": [],
   "source": []
  },
  {
   "cell_type": "code",
   "execution_count": null,
   "id": "11e316e4",
   "metadata": {},
   "outputs": [],
   "source": []
  },
  {
   "cell_type": "code",
   "execution_count": null,
   "id": "8f497dc2",
   "metadata": {},
   "outputs": [],
   "source": []
  },
  {
   "cell_type": "code",
   "execution_count": null,
   "id": "b5cfffd6",
   "metadata": {},
   "outputs": [],
   "source": []
  },
  {
   "cell_type": "code",
   "execution_count": null,
   "id": "66190853",
   "metadata": {},
   "outputs": [],
   "source": []
  },
  {
   "cell_type": "code",
   "execution_count": null,
   "id": "767d7360",
   "metadata": {},
   "outputs": [],
   "source": []
  },
  {
   "cell_type": "code",
   "execution_count": null,
   "id": "13bdec0a",
   "metadata": {},
   "outputs": [],
   "source": []
  },
  {
   "cell_type": "code",
   "execution_count": null,
   "id": "82c52852",
   "metadata": {},
   "outputs": [],
   "source": []
  },
  {
   "cell_type": "code",
   "execution_count": null,
   "id": "0b85b986",
   "metadata": {},
   "outputs": [],
   "source": []
  },
  {
   "cell_type": "code",
   "execution_count": null,
   "id": "be4b11c6",
   "metadata": {},
   "outputs": [],
   "source": []
  },
  {
   "cell_type": "code",
   "execution_count": null,
   "id": "c21a079a",
   "metadata": {},
   "outputs": [],
   "source": []
  },
  {
   "cell_type": "code",
   "execution_count": null,
   "id": "3007cba3",
   "metadata": {},
   "outputs": [],
   "source": []
  },
  {
   "cell_type": "code",
   "execution_count": null,
   "id": "fe7b6296",
   "metadata": {},
   "outputs": [],
   "source": []
  },
  {
   "cell_type": "code",
   "execution_count": null,
   "id": "0db2a00e",
   "metadata": {},
   "outputs": [],
   "source": []
  },
  {
   "cell_type": "code",
   "execution_count": null,
   "id": "03fb34b5",
   "metadata": {},
   "outputs": [],
   "source": []
  },
  {
   "cell_type": "code",
   "execution_count": null,
   "id": "08209f05",
   "metadata": {},
   "outputs": [],
   "source": []
  }
 ],
 "metadata": {
  "kernelspec": {
   "display_name": "Python 3 (ipykernel)",
   "language": "python",
   "name": "python3"
  },
  "language_info": {
   "codemirror_mode": {
    "name": "ipython",
    "version": 3
   },
   "file_extension": ".py",
   "mimetype": "text/x-python",
   "name": "python",
   "nbconvert_exporter": "python",
   "pygments_lexer": "ipython3",
   "version": "3.9.12"
  }
 },
 "nbformat": 4,
 "nbformat_minor": 5
}

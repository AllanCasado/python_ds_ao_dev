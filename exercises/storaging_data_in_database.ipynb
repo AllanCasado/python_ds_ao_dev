{
 "cells": [
  {
   "cell_type": "markdown",
   "id": "154c2440",
   "metadata": {},
   "source": [
    "# Importando as bibliotecas"
   ]
  },
  {
   "cell_type": "code",
   "execution_count": 1,
   "id": "cce42be7",
   "metadata": {},
   "outputs": [],
   "source": [
    "import pandas as pd\n",
    "import sqlite3\n",
    "from sqlalchemy import create_engine"
   ]
  },
  {
   "cell_type": "markdown",
   "id": "1b2f7fba",
   "metadata": {},
   "source": [
    "# Carregando os dados"
   ]
  },
  {
   "cell_type": "code",
   "execution_count": 2,
   "id": "9aa95c06",
   "metadata": {},
   "outputs": [],
   "source": [
    "df = pd.read_csv(\"generated_data/cleaned_data.csv\")\n",
    "df = df.drop(\"Unnamed: 0\", axis=1)"
   ]
  },
  {
   "cell_type": "code",
   "execution_count": 3,
   "id": "ce7007a3",
   "metadata": {},
   "outputs": [
    {
     "data": {
      "text/html": [
       "<div>\n",
       "<style scoped>\n",
       "    .dataframe tbody tr th:only-of-type {\n",
       "        vertical-align: middle;\n",
       "    }\n",
       "\n",
       "    .dataframe tbody tr th {\n",
       "        vertical-align: top;\n",
       "    }\n",
       "\n",
       "    .dataframe thead th {\n",
       "        text-align: right;\n",
       "    }\n",
       "</style>\n",
       "<table border=\"1\" class=\"dataframe\">\n",
       "  <thead>\n",
       "    <tr style=\"text-align: right;\">\n",
       "      <th></th>\n",
       "      <th>product_id</th>\n",
       "      <th>product_name</th>\n",
       "      <th>product_type</th>\n",
       "      <th>product_colors</th>\n",
       "      <th>product_price</th>\n",
       "      <th>cotton</th>\n",
       "      <th>spandex</th>\n",
       "      <th>elastomultiester</th>\n",
       "      <th>polyester</th>\n",
       "      <th>lyocell</th>\n",
       "      <th>rayon</th>\n",
       "      <th>scrapy_datetime</th>\n",
       "    </tr>\n",
       "  </thead>\n",
       "  <tbody>\n",
       "    <tr>\n",
       "      <th>0</th>\n",
       "      <td>1024256001</td>\n",
       "      <td>slim_jeans</td>\n",
       "      <td>men_jeans_slim</td>\n",
       "      <td>black</td>\n",
       "      <td>19.99</td>\n",
       "      <td>0.99</td>\n",
       "      <td>0.01</td>\n",
       "      <td>0.0</td>\n",
       "      <td>0.0</td>\n",
       "      <td>0.0</td>\n",
       "      <td>0.0</td>\n",
       "      <td>2022-12-15 20:56:55</td>\n",
       "    </tr>\n",
       "    <tr>\n",
       "      <th>1</th>\n",
       "      <td>1024256001</td>\n",
       "      <td>slim_jeans</td>\n",
       "      <td>men_jeans_slim</td>\n",
       "      <td>light_denim_blue</td>\n",
       "      <td>19.99</td>\n",
       "      <td>0.99</td>\n",
       "      <td>0.01</td>\n",
       "      <td>0.0</td>\n",
       "      <td>0.0</td>\n",
       "      <td>0.0</td>\n",
       "      <td>0.0</td>\n",
       "      <td>2022-12-15 20:56:55</td>\n",
       "    </tr>\n",
       "    <tr>\n",
       "      <th>2</th>\n",
       "      <td>1024256001</td>\n",
       "      <td>slim_jeans</td>\n",
       "      <td>men_jeans_slim</td>\n",
       "      <td>denim_blue</td>\n",
       "      <td>19.99</td>\n",
       "      <td>0.99</td>\n",
       "      <td>0.01</td>\n",
       "      <td>0.0</td>\n",
       "      <td>0.0</td>\n",
       "      <td>0.0</td>\n",
       "      <td>0.0</td>\n",
       "      <td>2022-12-15 20:56:55</td>\n",
       "    </tr>\n",
       "    <tr>\n",
       "      <th>3</th>\n",
       "      <td>1024256001</td>\n",
       "      <td>slim_jeans</td>\n",
       "      <td>men_jeans_slim</td>\n",
       "      <td>dark_blue</td>\n",
       "      <td>19.99</td>\n",
       "      <td>0.99</td>\n",
       "      <td>0.01</td>\n",
       "      <td>0.0</td>\n",
       "      <td>0.0</td>\n",
       "      <td>0.0</td>\n",
       "      <td>0.0</td>\n",
       "      <td>2022-12-15 20:56:55</td>\n",
       "    </tr>\n",
       "    <tr>\n",
       "      <th>4</th>\n",
       "      <td>1024256001</td>\n",
       "      <td>slim_jeans</td>\n",
       "      <td>men_jeans_slim</td>\n",
       "      <td>dark_denim_blue</td>\n",
       "      <td>19.99</td>\n",
       "      <td>0.99</td>\n",
       "      <td>0.01</td>\n",
       "      <td>0.0</td>\n",
       "      <td>0.0</td>\n",
       "      <td>0.0</td>\n",
       "      <td>0.0</td>\n",
       "      <td>2022-12-15 20:56:55</td>\n",
       "    </tr>\n",
       "  </tbody>\n",
       "</table>\n",
       "</div>"
      ],
      "text/plain": [
       "   product_id product_name    product_type    product_colors  product_price  \\\n",
       "0  1024256001   slim_jeans  men_jeans_slim             black          19.99   \n",
       "1  1024256001   slim_jeans  men_jeans_slim  light_denim_blue          19.99   \n",
       "2  1024256001   slim_jeans  men_jeans_slim        denim_blue          19.99   \n",
       "3  1024256001   slim_jeans  men_jeans_slim         dark_blue          19.99   \n",
       "4  1024256001   slim_jeans  men_jeans_slim   dark_denim_blue          19.99   \n",
       "\n",
       "   cotton  spandex  elastomultiester  polyester  lyocell  rayon  \\\n",
       "0    0.99     0.01               0.0        0.0      0.0    0.0   \n",
       "1    0.99     0.01               0.0        0.0      0.0    0.0   \n",
       "2    0.99     0.01               0.0        0.0      0.0    0.0   \n",
       "3    0.99     0.01               0.0        0.0      0.0    0.0   \n",
       "4    0.99     0.01               0.0        0.0      0.0    0.0   \n",
       "\n",
       "       scrapy_datetime  \n",
       "0  2022-12-15 20:56:55  \n",
       "1  2022-12-15 20:56:55  \n",
       "2  2022-12-15 20:56:55  \n",
       "3  2022-12-15 20:56:55  \n",
       "4  2022-12-15 20:56:55  "
      ]
     },
     "execution_count": 3,
     "metadata": {},
     "output_type": "execute_result"
    }
   ],
   "source": [
    "df.head()"
   ]
  },
  {
   "cell_type": "markdown",
   "id": "ae72cb5b",
   "metadata": {},
   "source": [
    "# Criando a tabela"
   ]
  },
  {
   "cell_type": "code",
   "execution_count": 4,
   "id": "d344ead5",
   "metadata": {},
   "outputs": [],
   "source": [
    "#query para criar a tabela \"showroom\" (vitrine)\n",
    "query_schema_showroom = \"\"\"\n",
    "    CREATE TABLE showroom (\n",
    "        product_id        INTEGER,\n",
    "        product_name      TEXT,\n",
    "        product_type      TEXT,\n",
    "        product_colors    TEXT,\n",
    "        product_price     REAL,\n",
    "        cotton            REAL,\n",
    "        spandex           REAL,\n",
    "        elastomultiester  REAL,\n",
    "        polyester         REAL,\n",
    "        lyocell           REAL,\n",
    "        rayon             REAL,\n",
    "        scrapy_datetime   TEXT\n",
    "    )\n",
    "\"\"\""
   ]
  },
  {
   "cell_type": "code",
   "execution_count": 5,
   "id": "e794dec9",
   "metadata": {},
   "outputs": [],
   "source": [
    "#conectando ao banco de dados\n",
    "conn = sqlite3.connect(\"men_jeans_db.sqlite\")\n",
    "\n",
    "#dizendo qual comando será executado\n",
    "cursor = conn.execute(query_schema_showroom)\n",
    "\n",
    "#executando o comando passado\n",
    "conn.commit()\n",
    "\n",
    "#fechando a conexão\n",
    "conn.close()"
   ]
  },
  {
   "cell_type": "markdown",
   "id": "597eac3d",
   "metadata": {},
   "source": [
    "# Conectando ao banco para manipulá-lo"
   ]
  },
  {
   "cell_type": "markdown",
   "id": "169400c4",
   "metadata": {},
   "source": [
    "A biblioteca sqlalchemy pode ser utilizada para manipular diferentes bancos de dados, sendo um deles o sqlite3. Poderia fazer o mesmo comando acima utilizando o sqlalchemy, mas precisaria do arquivo .sqlite criado, por isso criamos o arquivo utilizando os comandos acima e agora manipularemos o banco por meio dessa biblioteca."
   ]
  },
  {
   "cell_type": "code",
   "execution_count": 6,
   "id": "1cba93aa",
   "metadata": {},
   "outputs": [],
   "source": [
    "#conectando ao banco de dados\n",
    "conn = create_engine('sqlite:///men_jeans_db.sqlite', echo=False)"
   ]
  },
  {
   "cell_type": "code",
   "execution_count": 7,
   "id": "983f4c7d",
   "metadata": {},
   "outputs": [
    {
     "data": {
      "text/html": [
       "<div>\n",
       "<style scoped>\n",
       "    .dataframe tbody tr th:only-of-type {\n",
       "        vertical-align: middle;\n",
       "    }\n",
       "\n",
       "    .dataframe tbody tr th {\n",
       "        vertical-align: top;\n",
       "    }\n",
       "\n",
       "    .dataframe thead th {\n",
       "        text-align: right;\n",
       "    }\n",
       "</style>\n",
       "<table border=\"1\" class=\"dataframe\">\n",
       "  <thead>\n",
       "    <tr style=\"text-align: right;\">\n",
       "      <th></th>\n",
       "      <th>product_id</th>\n",
       "      <th>product_name</th>\n",
       "      <th>product_type</th>\n",
       "      <th>product_colors</th>\n",
       "      <th>product_price</th>\n",
       "      <th>cotton</th>\n",
       "      <th>spandex</th>\n",
       "      <th>elastomultiester</th>\n",
       "      <th>polyester</th>\n",
       "      <th>lyocell</th>\n",
       "      <th>rayon</th>\n",
       "      <th>scrapy_datetime</th>\n",
       "    </tr>\n",
       "  </thead>\n",
       "  <tbody>\n",
       "  </tbody>\n",
       "</table>\n",
       "</div>"
      ],
      "text/plain": [
       "Empty DataFrame\n",
       "Columns: [product_id, product_name, product_type, product_colors, product_price, cotton, spandex, elastomultiester, polyester, lyocell, rayon, scrapy_datetime]\n",
       "Index: []"
      ]
     },
     "execution_count": 7,
     "metadata": {},
     "output_type": "execute_result"
    }
   ],
   "source": [
    "#executando uma query e já transformando o resultado dela para um dataframe\n",
    "def get_data_from_database(table_name, conn):\n",
    "    return pd.read_sql_query(f\"SELECT * FROM {table_name}\", conn)\n",
    "\n",
    "get_data_from_database(\"showroom\", conn).head()"
   ]
  },
  {
   "cell_type": "code",
   "execution_count": 8,
   "id": "07091759",
   "metadata": {},
   "outputs": [
    {
     "data": {
      "text/plain": [
       "624"
      ]
     },
     "execution_count": 8,
     "metadata": {},
     "output_type": "execute_result"
    }
   ],
   "source": [
    "#populando a tabela com dados do dataframe\n",
    "df.to_sql(\n",
    "    'showroom',\n",
    "    con=conn,\n",
    "    if_exists='append',\n",
    "    index=False\n",
    ")"
   ]
  },
  {
   "cell_type": "code",
   "execution_count": 9,
   "id": "9d924ce0",
   "metadata": {},
   "outputs": [
    {
     "data": {
      "text/html": [
       "<div>\n",
       "<style scoped>\n",
       "    .dataframe tbody tr th:only-of-type {\n",
       "        vertical-align: middle;\n",
       "    }\n",
       "\n",
       "    .dataframe tbody tr th {\n",
       "        vertical-align: top;\n",
       "    }\n",
       "\n",
       "    .dataframe thead th {\n",
       "        text-align: right;\n",
       "    }\n",
       "</style>\n",
       "<table border=\"1\" class=\"dataframe\">\n",
       "  <thead>\n",
       "    <tr style=\"text-align: right;\">\n",
       "      <th></th>\n",
       "      <th>product_id</th>\n",
       "      <th>product_name</th>\n",
       "      <th>product_type</th>\n",
       "      <th>product_colors</th>\n",
       "      <th>product_price</th>\n",
       "      <th>cotton</th>\n",
       "      <th>spandex</th>\n",
       "      <th>elastomultiester</th>\n",
       "      <th>polyester</th>\n",
       "      <th>lyocell</th>\n",
       "      <th>rayon</th>\n",
       "      <th>scrapy_datetime</th>\n",
       "    </tr>\n",
       "  </thead>\n",
       "  <tbody>\n",
       "    <tr>\n",
       "      <th>0</th>\n",
       "      <td>1024256001</td>\n",
       "      <td>slim_jeans</td>\n",
       "      <td>men_jeans_slim</td>\n",
       "      <td>black</td>\n",
       "      <td>19.99</td>\n",
       "      <td>0.99</td>\n",
       "      <td>0.01</td>\n",
       "      <td>0.0</td>\n",
       "      <td>0.0</td>\n",
       "      <td>0.0</td>\n",
       "      <td>0.0</td>\n",
       "      <td>2022-12-15 20:56:55</td>\n",
       "    </tr>\n",
       "    <tr>\n",
       "      <th>1</th>\n",
       "      <td>1024256001</td>\n",
       "      <td>slim_jeans</td>\n",
       "      <td>men_jeans_slim</td>\n",
       "      <td>light_denim_blue</td>\n",
       "      <td>19.99</td>\n",
       "      <td>0.99</td>\n",
       "      <td>0.01</td>\n",
       "      <td>0.0</td>\n",
       "      <td>0.0</td>\n",
       "      <td>0.0</td>\n",
       "      <td>0.0</td>\n",
       "      <td>2022-12-15 20:56:55</td>\n",
       "    </tr>\n",
       "    <tr>\n",
       "      <th>2</th>\n",
       "      <td>1024256001</td>\n",
       "      <td>slim_jeans</td>\n",
       "      <td>men_jeans_slim</td>\n",
       "      <td>denim_blue</td>\n",
       "      <td>19.99</td>\n",
       "      <td>0.99</td>\n",
       "      <td>0.01</td>\n",
       "      <td>0.0</td>\n",
       "      <td>0.0</td>\n",
       "      <td>0.0</td>\n",
       "      <td>0.0</td>\n",
       "      <td>2022-12-15 20:56:55</td>\n",
       "    </tr>\n",
       "    <tr>\n",
       "      <th>3</th>\n",
       "      <td>1024256001</td>\n",
       "      <td>slim_jeans</td>\n",
       "      <td>men_jeans_slim</td>\n",
       "      <td>dark_blue</td>\n",
       "      <td>19.99</td>\n",
       "      <td>0.99</td>\n",
       "      <td>0.01</td>\n",
       "      <td>0.0</td>\n",
       "      <td>0.0</td>\n",
       "      <td>0.0</td>\n",
       "      <td>0.0</td>\n",
       "      <td>2022-12-15 20:56:55</td>\n",
       "    </tr>\n",
       "    <tr>\n",
       "      <th>4</th>\n",
       "      <td>1024256001</td>\n",
       "      <td>slim_jeans</td>\n",
       "      <td>men_jeans_slim</td>\n",
       "      <td>dark_denim_blue</td>\n",
       "      <td>19.99</td>\n",
       "      <td>0.99</td>\n",
       "      <td>0.01</td>\n",
       "      <td>0.0</td>\n",
       "      <td>0.0</td>\n",
       "      <td>0.0</td>\n",
       "      <td>0.0</td>\n",
       "      <td>2022-12-15 20:56:55</td>\n",
       "    </tr>\n",
       "  </tbody>\n",
       "</table>\n",
       "</div>"
      ],
      "text/plain": [
       "   product_id product_name    product_type    product_colors  product_price  \\\n",
       "0  1024256001   slim_jeans  men_jeans_slim             black          19.99   \n",
       "1  1024256001   slim_jeans  men_jeans_slim  light_denim_blue          19.99   \n",
       "2  1024256001   slim_jeans  men_jeans_slim        denim_blue          19.99   \n",
       "3  1024256001   slim_jeans  men_jeans_slim         dark_blue          19.99   \n",
       "4  1024256001   slim_jeans  men_jeans_slim   dark_denim_blue          19.99   \n",
       "\n",
       "   cotton  spandex  elastomultiester  polyester  lyocell  rayon  \\\n",
       "0    0.99     0.01               0.0        0.0      0.0    0.0   \n",
       "1    0.99     0.01               0.0        0.0      0.0    0.0   \n",
       "2    0.99     0.01               0.0        0.0      0.0    0.0   \n",
       "3    0.99     0.01               0.0        0.0      0.0    0.0   \n",
       "4    0.99     0.01               0.0        0.0      0.0    0.0   \n",
       "\n",
       "       scrapy_datetime  \n",
       "0  2022-12-15 20:56:55  \n",
       "1  2022-12-15 20:56:55  \n",
       "2  2022-12-15 20:56:55  \n",
       "3  2022-12-15 20:56:55  \n",
       "4  2022-12-15 20:56:55  "
      ]
     },
     "execution_count": 9,
     "metadata": {},
     "output_type": "execute_result"
    }
   ],
   "source": [
    "#verificando a tabela novamente\n",
    "get_data_from_database(\"showroom\", conn).head()"
   ]
  },
  {
   "cell_type": "markdown",
   "id": "180993ef",
   "metadata": {},
   "source": [
    "# Executando uma query"
   ]
  },
  {
   "cell_type": "code",
   "execution_count": 10,
   "id": "ed12b803",
   "metadata": {},
   "outputs": [],
   "source": [
    "def execute_query(query):\n",
    "    #conectando ao banco de dados\n",
    "    conn = sqlite3.connect(\"men_jeans_db.sqlite\")\n",
    "\n",
    "    #dizendo qual comando será executado\n",
    "    cursor = conn.execute(query)\n",
    "\n",
    "    #executando o comando passado\n",
    "    conn.commit()\n",
    "\n",
    "    #fechando a conexão\n",
    "    conn.close()"
   ]
  },
  {
   "cell_type": "markdown",
   "id": "e6767450",
   "metadata": {},
   "source": [
    "### Update"
   ]
  },
  {
   "cell_type": "code",
   "execution_count": 11,
   "id": "e913c48c",
   "metadata": {},
   "outputs": [],
   "source": [
    "# query_update = \"\"\"\n",
    "#     UPDATE showroom \n",
    "#     SET product_price = 29.99\n",
    "#     WHERE product_id = 1024256001\n",
    "# \"\"\"\n",
    "\n",
    "# execute_query(query_update)\n",
    "# get_data_from_database(\"showroom\", conn).head()"
   ]
  }
 ],
 "metadata": {
  "kernelspec": {
   "display_name": "Python 3 (ipykernel)",
   "language": "python",
   "name": "python3"
  },
  "language_info": {
   "codemirror_mode": {
    "name": "ipython",
    "version": 3
   },
   "file_extension": ".py",
   "mimetype": "text/x-python",
   "name": "python",
   "nbconvert_exporter": "python",
   "pygments_lexer": "ipython3",
   "version": "3.9.12"
  }
 },
 "nbformat": 4,
 "nbformat_minor": 5
}

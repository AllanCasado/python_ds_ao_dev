{
 "cells": [
  {
   "cell_type": "markdown",
   "id": "6728dafa",
   "metadata": {},
   "source": [
    "# Planejamento da solução - o método SAPE\n",
    "\n",
    "1. Pensar primeiro na saída, no produto final.\n",
    "        - A resposta para a pergunta.\n",
    "        - Formato da entrega. (um gráfico, uma tabela - quais colunas deve ter?...)\n",
    "        - Local da entrega. (um bot do telegram, um dashboard no streamlit? ...)\n",
    "\n",
    "2. Processo (passo a passo):\n",
    "        - Passo a passo para construir o cálculo da mediana ou média.\n",
    "        - Definir o formato da entrega (visualização, tabela, frase)\n",
    "        - Definir o local de entrega (Power BI, Telegram, Email, Streamlit)\n",
    "\n",
    "3. Entrada (fonte de dados):\n",
    "        - Fonte de dados.\n",
    "        - Ferramentas.\n"
   ]
  },
  {
   "cell_type": "markdown",
   "id": "f4e5d1f8",
   "metadata": {},
   "source": [
    "# Exercício - Quantos tipos de calças e suas cores para o produto inicial?"
   ]
  },
  {
   "cell_type": "markdown",
   "id": "3d8a85eb",
   "metadata": {},
   "source": [
    "### Saída"
   ]
  },
  {
   "cell_type": "markdown",
   "id": "252c1bf8",
   "metadata": {},
   "source": [
    "<b>1. A resposta para a pergunta:</b>\n",
    "\n",
    "Entregar a propoção dos tipos de calças e a proporção das cores das calças. A sugestão de decisão é que sejam escolhidas as que possuem maior proporção, pois são as que mais vendem. Como validação inicial de um negócio, é interessante agir rápido e fazer as primeiras vendas rápido.\n",
    "\n",
    "\n",
    "<b>2. Formato da entrega:</b>\n",
    "\n",
    "\n",
    "* Uma tabela com contendo as quantidades totais de calças para cada tipo, para cada cor e combinando esses dois atributos. <br>\n",
    "* Um gráfico exibindo as informações contidas na tabela acima\n",
    "\n",
    "\n",
    "<b>3. Local da entrega:</b>\n",
    "\n",
    "A entrega será feita por meio de uma planilha do google sheets, com o gráfico gerado no próprio google sheets."
   ]
  },
  {
   "cell_type": "markdown",
   "id": "8d77516f",
   "metadata": {},
   "source": [
    "### Processo\n"
   ]
  },
  {
   "cell_type": "markdown",
   "id": "e16b4249",
   "metadata": {},
   "source": [
    "<b> 1. Passo a passo </b>"
   ]
  },
  {
   "cell_type": "markdown",
   "id": "16ceffec",
   "metadata": {},
   "source": [
    "1. Fazer o webscrapping para coletar das páginas as calças, a cor delas, o tipo e o preço\n",
    "2. Definir o schema do Banco de Dados\n",
    "3. Armazenar as informações coletadas em 1 no Banco de Dados\n",
    "4. Fazer o design do ETL\n",
    "5. Agendamento dos scripts\n",
    "6. Fazer a contagem de quantas calças de cada tipo, cada cor e cada tipo e cor possuem\n",
    "7. Mostrar essas contagens em uma tabela e em um gráfico de barras\n",
    "8. Fazer a produtização do gráfico e da tabela "
   ]
  },
  {
   "cell_type": "markdown",
   "id": "1d9006a5",
   "metadata": {},
   "source": [
    "<b> 2. Definir o local de entrega </b>"
   ]
  },
  {
   "cell_type": "markdown",
   "id": "92125845",
   "metadata": {},
   "source": [
    "App no Streamlit"
   ]
  },
  {
   "cell_type": "markdown",
   "id": "83809e09",
   "metadata": {},
   "source": [
    "### Entrada"
   ]
  },
  {
   "cell_type": "markdown",
   "id": "934ab28e",
   "metadata": {},
   "source": [
    "<b> 1. Fonte dos dados </b>"
   ]
  },
  {
   "cell_type": "markdown",
   "id": "62c7dc88",
   "metadata": {},
   "source": [
    "- Site da H&M: https://www2.hm.com/en_us/men/products/jeans.html\n",
    "- Site da Macys: https://www.macys.com/shop/mens-clothing/mens-jeans"
   ]
  },
  {
   "cell_type": "markdown",
   "id": "33a57af1",
   "metadata": {},
   "source": [
    "<b> 2. Ferramentas </b>"
   ]
  },
  {
   "cell_type": "markdown",
   "id": "eca2b186",
   "metadata": {},
   "source": [
    "* Python\n",
    "* SQLITE3\n",
    "* Pandas, seaborn\n",
    "* Crontjob, Airflow\n",
    "* Bibliotecas de webscrapping (BS4, Selenium)\n",
    "* Jupyter Notebook\n",
    "* Streamlit"
   ]
  },
  {
   "cell_type": "code",
   "execution_count": null,
   "id": "fc54c3f8",
   "metadata": {},
   "outputs": [],
   "source": []
  }
 ],
 "metadata": {
  "kernelspec": {
   "display_name": "Python 3",
   "language": "python",
   "name": "python3"
  },
  "language_info": {
   "codemirror_mode": {
    "name": "ipython",
    "version": 3
   },
   "file_extension": ".py",
   "mimetype": "text/x-python",
   "name": "python",
   "nbconvert_exporter": "python",
   "pygments_lexer": "ipython3",
   "version": "3.8.0"
  }
 },
 "nbformat": 4,
 "nbformat_minor": 5
}
